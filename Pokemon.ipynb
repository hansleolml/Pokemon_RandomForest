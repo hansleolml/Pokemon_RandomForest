{
  "nbformat": 4,
  "nbformat_minor": 0,
  "metadata": {
    "colab": {
      "name": "Pokemon.ipynb",
      "provenance": [],
      "collapsed_sections": [],
      "toc_visible": true,
      "authorship_tag": "ABX9TyNGpgwpx5Q0taOeymxRoyZY",
      "include_colab_link": true
    },
    "kernelspec": {
      "name": "python3",
      "display_name": "Python 3"
    }
  },
  "cells": [
    {
      "cell_type": "markdown",
      "metadata": {
        "id": "view-in-github",
        "colab_type": "text"
      },
      "source": [
        "<a href=\"https://colab.research.google.com/github/hansleolml/Pokemon_RandomForest/blob/master/Pokemon.ipynb\" target=\"_parent\"><img src=\"https://colab.research.google.com/assets/colab-badge.svg\" alt=\"Open In Colab\"/></a>"
      ]
    },
    {
      "cell_type": "code",
      "metadata": {
        "id": "3mENWJ4bZrdu",
        "colab_type": "code",
        "outputId": "6c00cf00-63ee-4c54-fd7d-b69370da9dd3",
        "colab": {
          "base_uri": "https://localhost:8080/",
          "height": 71
        }
      },
      "source": [
        "import pandas as pd\n",
        "import seaborn as sn\n",
        "from google.colab import files\n",
        "from google.colab import drive"
      ],
      "execution_count": 1,
      "outputs": [
        {
          "output_type": "stream",
          "text": [
            "/usr/local/lib/python3.6/dist-packages/statsmodels/tools/_testing.py:19: FutureWarning: pandas.util.testing is deprecated. Use the functions in the public API at pandas.testing instead.\n",
            "  import pandas.util.testing as tm\n"
          ],
          "name": "stderr"
        }
      ]
    },
    {
      "cell_type": "code",
      "metadata": {
        "id": "qXTPm4lnEM75",
        "colab_type": "code",
        "outputId": "455f45a7-dca7-4afe-d40b-2636d86cd40d",
        "colab": {
          "base_uri": "https://localhost:8080/",
          "height": 54
        }
      },
      "source": [
        "drive.mount('/content/drive')"
      ],
      "execution_count": 2,
      "outputs": [
        {
          "output_type": "stream",
          "text": [
            "Drive already mounted at /content/drive; to attempt to forcibly remount, call drive.mount(\"/content/drive\", force_remount=True).\n"
          ],
          "name": "stdout"
        }
      ]
    },
    {
      "cell_type": "code",
      "metadata": {
        "id": "KJM_ccH-ags9",
        "colab_type": "code",
        "colab": {}
      },
      "source": [
        "nuestroPokemon = pd.read_csv(\"drive/My Drive/Colab Notebooks/Datasets/pokedex.csv\")"
      ],
      "execution_count": 0,
      "outputs": []
    },
    {
      "cell_type": "code",
      "metadata": {
        "id": "fBU_QCnzbK0F",
        "colab_type": "code",
        "outputId": "98328ef9-c3c6-48ca-f260-7817008fd623",
        "colab": {
          "base_uri": "https://localhost:8080/",
          "height": 102
        }
      },
      "source": [
        "nuestroPokemon.columns"
      ],
      "execution_count": 4,
      "outputs": [
        {
          "output_type": "execute_result",
          "data": {
            "text/plain": [
              "Index(['NUMERO', 'NOMRE', 'TIPO_1', 'TIPO_2', 'PUNTOS_DE_VIDA',\n",
              "       'PUNTOS_ATAQUE', 'PUNTOS_DEFENSA', 'PUNTOS_ATAQUE_ESPECIAL',\n",
              "       'PUNTO_DEFENSA_ESPECIAL', 'PUNTOS_VELOCIDAD', 'NOMBRE_GENERATIONS',\n",
              "       'LEGENDARIO'],\n",
              "      dtype='object')"
            ]
          },
          "metadata": {
            "tags": []
          },
          "execution_count": 4
        }
      ]
    },
    {
      "cell_type": "markdown",
      "metadata": {
        "id": "f6u5XZj1lMFT",
        "colab_type": "text"
      },
      "source": [
        "**EDITAMOS EL NOMBRE DE LA COLUMNA DE \"NOMRE\" A \"NOMBRE\"**"
      ]
    },
    {
      "cell_type": "code",
      "metadata": {
        "id": "2ybThQV-lK61",
        "colab_type": "code",
        "outputId": "b0bfe9d4-716a-4119-d173-db3f1f398400",
        "colab": {
          "base_uri": "https://localhost:8080/",
          "height": 102
        }
      },
      "source": [
        "nuestroPokemon=nuestroPokemon.rename(columns={'NOMRE':'NOMBRE'})\n",
        "nuestroPokemon.columns"
      ],
      "execution_count": 5,
      "outputs": [
        {
          "output_type": "execute_result",
          "data": {
            "text/plain": [
              "Index(['NUMERO', 'NOMBRE', 'TIPO_1', 'TIPO_2', 'PUNTOS_DE_VIDA',\n",
              "       'PUNTOS_ATAQUE', 'PUNTOS_DEFENSA', 'PUNTOS_ATAQUE_ESPECIAL',\n",
              "       'PUNTO_DEFENSA_ESPECIAL', 'PUNTOS_VELOCIDAD', 'NOMBRE_GENERATIONS',\n",
              "       'LEGENDARIO'],\n",
              "      dtype='object')"
            ]
          },
          "metadata": {
            "tags": []
          },
          "execution_count": 5
        }
      ]
    },
    {
      "cell_type": "code",
      "metadata": {
        "id": "pIYBwOx4d7ra",
        "colab_type": "code",
        "outputId": "7d9c4fbb-6512-4918-cacf-121e181491a0",
        "colab": {
          "base_uri": "https://localhost:8080/",
          "height": 275
        }
      },
      "source": [
        "nuestroPokemon.tail()"
      ],
      "execution_count": 6,
      "outputs": [
        {
          "output_type": "execute_result",
          "data": {
            "text/html": [
              "<div>\n",
              "<style scoped>\n",
              "    .dataframe tbody tr th:only-of-type {\n",
              "        vertical-align: middle;\n",
              "    }\n",
              "\n",
              "    .dataframe tbody tr th {\n",
              "        vertical-align: top;\n",
              "    }\n",
              "\n",
              "    .dataframe thead th {\n",
              "        text-align: right;\n",
              "    }\n",
              "</style>\n",
              "<table border=\"1\" class=\"dataframe\">\n",
              "  <thead>\n",
              "    <tr style=\"text-align: right;\">\n",
              "      <th></th>\n",
              "      <th>NUMERO</th>\n",
              "      <th>NOMBRE</th>\n",
              "      <th>TIPO_1</th>\n",
              "      <th>TIPO_2</th>\n",
              "      <th>PUNTOS_DE_VIDA</th>\n",
              "      <th>PUNTOS_ATAQUE</th>\n",
              "      <th>PUNTOS_DEFENSA</th>\n",
              "      <th>PUNTOS_ATAQUE_ESPECIAL</th>\n",
              "      <th>PUNTO_DEFENSA_ESPECIAL</th>\n",
              "      <th>PUNTOS_VELOCIDAD</th>\n",
              "      <th>NOMBRE_GENERATIONS</th>\n",
              "      <th>LEGENDARIO</th>\n",
              "    </tr>\n",
              "  </thead>\n",
              "  <tbody>\n",
              "    <tr>\n",
              "      <th>795</th>\n",
              "      <td>796</td>\n",
              "      <td>Diancie</td>\n",
              "      <td>Roca</td>\n",
              "      <td>Hada</td>\n",
              "      <td>50</td>\n",
              "      <td>100</td>\n",
              "      <td>150</td>\n",
              "      <td>100</td>\n",
              "      <td>150</td>\n",
              "      <td>50</td>\n",
              "      <td>6</td>\n",
              "      <td>VERDADERO</td>\n",
              "    </tr>\n",
              "    <tr>\n",
              "      <th>796</th>\n",
              "      <td>797</td>\n",
              "      <td>Mega Diancie</td>\n",
              "      <td>Roca</td>\n",
              "      <td>Hada</td>\n",
              "      <td>50</td>\n",
              "      <td>160</td>\n",
              "      <td>110</td>\n",
              "      <td>160</td>\n",
              "      <td>110</td>\n",
              "      <td>110</td>\n",
              "      <td>6</td>\n",
              "      <td>VERDADERO</td>\n",
              "    </tr>\n",
              "    <tr>\n",
              "      <th>797</th>\n",
              "      <td>798</td>\n",
              "      <td>Hoopa contenido</td>\n",
              "      <td>Psiquico</td>\n",
              "      <td>Fantasma</td>\n",
              "      <td>80</td>\n",
              "      <td>110</td>\n",
              "      <td>60</td>\n",
              "      <td>150</td>\n",
              "      <td>130</td>\n",
              "      <td>70</td>\n",
              "      <td>6</td>\n",
              "      <td>VERDADERO</td>\n",
              "    </tr>\n",
              "    <tr>\n",
              "      <th>798</th>\n",
              "      <td>799</td>\n",
              "      <td>Hoopa desatado</td>\n",
              "      <td>Psiquico</td>\n",
              "      <td>Siniestro</td>\n",
              "      <td>80</td>\n",
              "      <td>160</td>\n",
              "      <td>60</td>\n",
              "      <td>170</td>\n",
              "      <td>130</td>\n",
              "      <td>80</td>\n",
              "      <td>6</td>\n",
              "      <td>VERDADERO</td>\n",
              "    </tr>\n",
              "    <tr>\n",
              "      <th>799</th>\n",
              "      <td>800</td>\n",
              "      <td>Volcanion</td>\n",
              "      <td>Fuego</td>\n",
              "      <td>Agua</td>\n",
              "      <td>80</td>\n",
              "      <td>110</td>\n",
              "      <td>120</td>\n",
              "      <td>130</td>\n",
              "      <td>90</td>\n",
              "      <td>70</td>\n",
              "      <td>6</td>\n",
              "      <td>VERDADERO</td>\n",
              "    </tr>\n",
              "  </tbody>\n",
              "</table>\n",
              "</div>"
            ],
            "text/plain": [
              "     NUMERO           NOMBRE  ... NOMBRE_GENERATIONS LEGENDARIO\n",
              "795     796          Diancie  ...                  6  VERDADERO\n",
              "796     797     Mega Diancie  ...                  6  VERDADERO\n",
              "797     798  Hoopa contenido  ...                  6  VERDADERO\n",
              "798     799   Hoopa desatado  ...                  6  VERDADERO\n",
              "799     800        Volcanion  ...                  6  VERDADERO\n",
              "\n",
              "[5 rows x 12 columns]"
            ]
          },
          "metadata": {
            "tags": []
          },
          "execution_count": 6
        }
      ]
    },
    {
      "cell_type": "markdown",
      "metadata": {
        "id": "h7JN2GvAmXnL",
        "colab_type": "text"
      },
      "source": [
        "LA COLUMNA \"TIPO_2\" SOLO CUENTA CON 413 VALORES , PERO ESO ES PORQUE ALGUNOS POKEMONES NO TIENEN \"TIPO_2\", ASI QUE NO HAY NINGUN PROBLEMA"
      ]
    },
    {
      "cell_type": "code",
      "metadata": {
        "id": "t3Z2OHW0hEah",
        "colab_type": "code",
        "outputId": "1c2b3f2b-b373-4991-c3f0-67ae58a0fb6b",
        "colab": {
          "base_uri": "https://localhost:8080/",
          "height": 340
        }
      },
      "source": [
        "nuestroPokemon.info()"
      ],
      "execution_count": 7,
      "outputs": [
        {
          "output_type": "stream",
          "text": [
            "<class 'pandas.core.frame.DataFrame'>\n",
            "RangeIndex: 800 entries, 0 to 799\n",
            "Data columns (total 12 columns):\n",
            " #   Column                  Non-Null Count  Dtype \n",
            "---  ------                  --------------  ----- \n",
            " 0   NUMERO                  800 non-null    int64 \n",
            " 1   NOMBRE                  800 non-null    object\n",
            " 2   TIPO_1                  800 non-null    object\n",
            " 3   TIPO_2                  413 non-null    object\n",
            " 4   PUNTOS_DE_VIDA          800 non-null    int64 \n",
            " 5   PUNTOS_ATAQUE           800 non-null    int64 \n",
            " 6   PUNTOS_DEFENSA          800 non-null    int64 \n",
            " 7   PUNTOS_ATAQUE_ESPECIAL  800 non-null    int64 \n",
            " 8   PUNTO_DEFENSA_ESPECIAL  800 non-null    int64 \n",
            " 9   PUNTOS_VELOCIDAD        800 non-null    int64 \n",
            " 10  NOMBRE_GENERATIONS      800 non-null    int64 \n",
            " 11  LEGENDARIO              800 non-null    object\n",
            "dtypes: int64(8), object(4)\n",
            "memory usage: 75.1+ KB\n"
          ],
          "name": "stdout"
        }
      ]
    },
    {
      "cell_type": "markdown",
      "metadata": {
        "id": "raPABLrMhH-e",
        "colab_type": "text"
      },
      "source": [
        "**Tranformación de la columna LEGENDARIO en entero 0 = false & 1 = true**"
      ]
    },
    {
      "cell_type": "code",
      "metadata": {
        "id": "Bx98XeOMbxoc",
        "colab_type": "code",
        "outputId": "61819821-9b68-4c35-9a91-bd028f96da4a",
        "colab": {
          "base_uri": "https://localhost:8080/",
          "height": 241
        }
      },
      "source": [
        "nuestroPokemon['LEGENDARIO']=nuestroPokemon['LEGENDARIO'].replace(\"FALSO\",0)\n",
        "nuestroPokemon['LEGENDARIO']=nuestroPokemon['LEGENDARIO'].replace(\"VERDADERO\",1)\n",
        "nuestroPokemon.head()"
      ],
      "execution_count": 8,
      "outputs": [
        {
          "output_type": "execute_result",
          "data": {
            "text/html": [
              "<div>\n",
              "<style scoped>\n",
              "    .dataframe tbody tr th:only-of-type {\n",
              "        vertical-align: middle;\n",
              "    }\n",
              "\n",
              "    .dataframe tbody tr th {\n",
              "        vertical-align: top;\n",
              "    }\n",
              "\n",
              "    .dataframe thead th {\n",
              "        text-align: right;\n",
              "    }\n",
              "</style>\n",
              "<table border=\"1\" class=\"dataframe\">\n",
              "  <thead>\n",
              "    <tr style=\"text-align: right;\">\n",
              "      <th></th>\n",
              "      <th>NUMERO</th>\n",
              "      <th>NOMBRE</th>\n",
              "      <th>TIPO_1</th>\n",
              "      <th>TIPO_2</th>\n",
              "      <th>PUNTOS_DE_VIDA</th>\n",
              "      <th>PUNTOS_ATAQUE</th>\n",
              "      <th>PUNTOS_DEFENSA</th>\n",
              "      <th>PUNTOS_ATAQUE_ESPECIAL</th>\n",
              "      <th>PUNTO_DEFENSA_ESPECIAL</th>\n",
              "      <th>PUNTOS_VELOCIDAD</th>\n",
              "      <th>NOMBRE_GENERATIONS</th>\n",
              "      <th>LEGENDARIO</th>\n",
              "    </tr>\n",
              "  </thead>\n",
              "  <tbody>\n",
              "    <tr>\n",
              "      <th>0</th>\n",
              "      <td>1</td>\n",
              "      <td>Bulbasaur</td>\n",
              "      <td>Planta</td>\n",
              "      <td>Veneno</td>\n",
              "      <td>45</td>\n",
              "      <td>49</td>\n",
              "      <td>49</td>\n",
              "      <td>65</td>\n",
              "      <td>65</td>\n",
              "      <td>45</td>\n",
              "      <td>1</td>\n",
              "      <td>0</td>\n",
              "    </tr>\n",
              "    <tr>\n",
              "      <th>1</th>\n",
              "      <td>2</td>\n",
              "      <td>Ivysaur</td>\n",
              "      <td>Planta</td>\n",
              "      <td>Veneno</td>\n",
              "      <td>60</td>\n",
              "      <td>62</td>\n",
              "      <td>63</td>\n",
              "      <td>80</td>\n",
              "      <td>80</td>\n",
              "      <td>60</td>\n",
              "      <td>1</td>\n",
              "      <td>0</td>\n",
              "    </tr>\n",
              "    <tr>\n",
              "      <th>2</th>\n",
              "      <td>3</td>\n",
              "      <td>Venusaur</td>\n",
              "      <td>Planta</td>\n",
              "      <td>Veneno</td>\n",
              "      <td>80</td>\n",
              "      <td>82</td>\n",
              "      <td>83</td>\n",
              "      <td>100</td>\n",
              "      <td>100</td>\n",
              "      <td>80</td>\n",
              "      <td>1</td>\n",
              "      <td>0</td>\n",
              "    </tr>\n",
              "    <tr>\n",
              "      <th>3</th>\n",
              "      <td>4</td>\n",
              "      <td>Mega Venusaur</td>\n",
              "      <td>Planta</td>\n",
              "      <td>Veneno</td>\n",
              "      <td>80</td>\n",
              "      <td>100</td>\n",
              "      <td>123</td>\n",
              "      <td>122</td>\n",
              "      <td>120</td>\n",
              "      <td>80</td>\n",
              "      <td>1</td>\n",
              "      <td>0</td>\n",
              "    </tr>\n",
              "    <tr>\n",
              "      <th>4</th>\n",
              "      <td>5</td>\n",
              "      <td>Charmander</td>\n",
              "      <td>Fuego</td>\n",
              "      <td>NaN</td>\n",
              "      <td>39</td>\n",
              "      <td>52</td>\n",
              "      <td>43</td>\n",
              "      <td>60</td>\n",
              "      <td>50</td>\n",
              "      <td>65</td>\n",
              "      <td>1</td>\n",
              "      <td>0</td>\n",
              "    </tr>\n",
              "  </tbody>\n",
              "</table>\n",
              "</div>"
            ],
            "text/plain": [
              "   NUMERO         NOMBRE  ... NOMBRE_GENERATIONS LEGENDARIO\n",
              "0       1      Bulbasaur  ...                  1          0\n",
              "1       2        Ivysaur  ...                  1          0\n",
              "2       3       Venusaur  ...                  1          0\n",
              "3       4  Mega Venusaur  ...                  1          0\n",
              "4       5     Charmander  ...                  1          0\n",
              "\n",
              "[5 rows x 12 columns]"
            ]
          },
          "metadata": {
            "tags": []
          },
          "execution_count": 8
        }
      ]
    },
    {
      "cell_type": "markdown",
      "metadata": {
        "id": "QJqvRk5EGtpf",
        "colab_type": "text"
      },
      "source": [
        "#Cargar los archivos de combate"
      ]
    },
    {
      "cell_type": "code",
      "metadata": {
        "id": "lXtEOoY0k6GQ",
        "colab_type": "code",
        "colab": {}
      },
      "source": [
        "combates = pd.read_csv(\"drive/My Drive/Colab Notebooks/Datasets/combates.csv\")"
      ],
      "execution_count": 0,
      "outputs": []
    },
    {
      "cell_type": "code",
      "metadata": {
        "id": "0CtgbWcJmu8o",
        "colab_type": "code",
        "outputId": "3919ba84-fb3b-4e7d-e31f-ceb2a16fa9b3",
        "colab": {
          "base_uri": "https://localhost:8080/",
          "height": 204
        }
      },
      "source": [
        "combates.head()"
      ],
      "execution_count": 10,
      "outputs": [
        {
          "output_type": "execute_result",
          "data": {
            "text/html": [
              "<div>\n",
              "<style scoped>\n",
              "    .dataframe tbody tr th:only-of-type {\n",
              "        vertical-align: middle;\n",
              "    }\n",
              "\n",
              "    .dataframe tbody tr th {\n",
              "        vertical-align: top;\n",
              "    }\n",
              "\n",
              "    .dataframe thead th {\n",
              "        text-align: right;\n",
              "    }\n",
              "</style>\n",
              "<table border=\"1\" class=\"dataframe\">\n",
              "  <thead>\n",
              "    <tr style=\"text-align: right;\">\n",
              "      <th></th>\n",
              "      <th>Primer_Pokemon</th>\n",
              "      <th>Segundo_Pokemon</th>\n",
              "      <th>Pokemon_Ganador</th>\n",
              "    </tr>\n",
              "  </thead>\n",
              "  <tbody>\n",
              "    <tr>\n",
              "      <th>0</th>\n",
              "      <td>266</td>\n",
              "      <td>298</td>\n",
              "      <td>298</td>\n",
              "    </tr>\n",
              "    <tr>\n",
              "      <th>1</th>\n",
              "      <td>702</td>\n",
              "      <td>701</td>\n",
              "      <td>701</td>\n",
              "    </tr>\n",
              "    <tr>\n",
              "      <th>2</th>\n",
              "      <td>191</td>\n",
              "      <td>668</td>\n",
              "      <td>668</td>\n",
              "    </tr>\n",
              "    <tr>\n",
              "      <th>3</th>\n",
              "      <td>237</td>\n",
              "      <td>683</td>\n",
              "      <td>683</td>\n",
              "    </tr>\n",
              "    <tr>\n",
              "      <th>4</th>\n",
              "      <td>151</td>\n",
              "      <td>231</td>\n",
              "      <td>151</td>\n",
              "    </tr>\n",
              "  </tbody>\n",
              "</table>\n",
              "</div>"
            ],
            "text/plain": [
              "   Primer_Pokemon  Segundo_Pokemon  Pokemon_Ganador\n",
              "0             266              298              298\n",
              "1             702              701              701\n",
              "2             191              668              668\n",
              "3             237              683              683\n",
              "4             151              231              151"
            ]
          },
          "metadata": {
            "tags": []
          },
          "execution_count": 10
        }
      ]
    },
    {
      "cell_type": "code",
      "metadata": {
        "id": "_n8toO7NHEtu",
        "colab_type": "code",
        "outputId": "c9f1a943-d9ed-4bad-f22f-b6052de3c5b0",
        "colab": {
          "base_uri": "https://localhost:8080/",
          "height": 187
        }
      },
      "source": [
        "combates.info()"
      ],
      "execution_count": 11,
      "outputs": [
        {
          "output_type": "stream",
          "text": [
            "<class 'pandas.core.frame.DataFrame'>\n",
            "RangeIndex: 50000 entries, 0 to 49999\n",
            "Data columns (total 3 columns):\n",
            " #   Column           Non-Null Count  Dtype\n",
            "---  ------           --------------  -----\n",
            " 0   Primer_Pokemon   50000 non-null  int64\n",
            " 1   Segundo_Pokemon  50000 non-null  int64\n",
            " 2   Pokemon_Ganador  50000 non-null  int64\n",
            "dtypes: int64(3)\n",
            "memory usage: 1.1 MB\n"
          ],
          "name": "stdout"
        }
      ]
    },
    {
      "cell_type": "code",
      "metadata": {
        "id": "NLQvX2kJHJHg",
        "colab_type": "code",
        "outputId": "769bb16e-cd82-4f6f-f059-6f25db8f653a",
        "colab": {
          "base_uri": "https://localhost:8080/",
          "height": 235
        }
      },
      "source": [
        "num1eraPos = combates.groupby('Primer_Pokemon').count()\n",
        "num1eraPos = num1eraPos.drop(columns=\"Pokemon_Ganador\")\n",
        "num1eraPos=num1eraPos.rename(columns={'Segundo_Pokemon':'Cantidad_Combates'})\n",
        "num1eraPos.head()"
      ],
      "execution_count": 12,
      "outputs": [
        {
          "output_type": "execute_result",
          "data": {
            "text/html": [
              "<div>\n",
              "<style scoped>\n",
              "    .dataframe tbody tr th:only-of-type {\n",
              "        vertical-align: middle;\n",
              "    }\n",
              "\n",
              "    .dataframe tbody tr th {\n",
              "        vertical-align: top;\n",
              "    }\n",
              "\n",
              "    .dataframe thead th {\n",
              "        text-align: right;\n",
              "    }\n",
              "</style>\n",
              "<table border=\"1\" class=\"dataframe\">\n",
              "  <thead>\n",
              "    <tr style=\"text-align: right;\">\n",
              "      <th></th>\n",
              "      <th>Cantidad_Combates</th>\n",
              "    </tr>\n",
              "    <tr>\n",
              "      <th>Primer_Pokemon</th>\n",
              "      <th></th>\n",
              "    </tr>\n",
              "  </thead>\n",
              "  <tbody>\n",
              "    <tr>\n",
              "      <th>1</th>\n",
              "      <td>70</td>\n",
              "    </tr>\n",
              "    <tr>\n",
              "      <th>2</th>\n",
              "      <td>55</td>\n",
              "    </tr>\n",
              "    <tr>\n",
              "      <th>3</th>\n",
              "      <td>68</td>\n",
              "    </tr>\n",
              "    <tr>\n",
              "      <th>4</th>\n",
              "      <td>62</td>\n",
              "    </tr>\n",
              "    <tr>\n",
              "      <th>5</th>\n",
              "      <td>50</td>\n",
              "    </tr>\n",
              "  </tbody>\n",
              "</table>\n",
              "</div>"
            ],
            "text/plain": [
              "                Cantidad_Combates\n",
              "Primer_Pokemon                   \n",
              "1                              70\n",
              "2                              55\n",
              "3                              68\n",
              "4                              62\n",
              "5                              50"
            ]
          },
          "metadata": {
            "tags": []
          },
          "execution_count": 12
        }
      ]
    },
    {
      "cell_type": "code",
      "metadata": {
        "id": "kAiGn9mKHOZ7",
        "colab_type": "code",
        "outputId": "8375277c-9b8a-4f83-847f-31266175187c",
        "colab": {
          "base_uri": "https://localhost:8080/",
          "height": 34
        }
      },
      "source": [
        "num1eraPos.shape"
      ],
      "execution_count": 13,
      "outputs": [
        {
          "output_type": "execute_result",
          "data": {
            "text/plain": [
              "(784, 1)"
            ]
          },
          "metadata": {
            "tags": []
          },
          "execution_count": 13
        }
      ]
    },
    {
      "cell_type": "code",
      "metadata": {
        "id": "Nrj9RPYDHQgj",
        "colab_type": "code",
        "outputId": "7470c7aa-e80d-4ac0-f68b-8f2dd6782a19",
        "colab": {
          "base_uri": "https://localhost:8080/",
          "height": 153
        }
      },
      "source": [
        "num2daPos =combates.groupby('Segundo_Pokemon').count()\n",
        "num2daPos = num2daPos.drop(columns=\"Pokemon_Ganador\")\n",
        "num2daPos=num2daPos.rename(columns={'Primer_Pokemon':'Cantidad_Combates'})\n",
        "num2daPos.info()"
      ],
      "execution_count": 14,
      "outputs": [
        {
          "output_type": "stream",
          "text": [
            "<class 'pandas.core.frame.DataFrame'>\n",
            "Int64Index: 784 entries, 1 to 800\n",
            "Data columns (total 1 columns):\n",
            " #   Column             Non-Null Count  Dtype\n",
            "---  ------             --------------  -----\n",
            " 0   Cantidad_Combates  784 non-null    int64\n",
            "dtypes: int64(1)\n",
            "memory usage: 12.2 KB\n"
          ],
          "name": "stdout"
        }
      ]
    },
    {
      "cell_type": "code",
      "metadata": {
        "id": "oZqZUOvfHR6s",
        "colab_type": "code",
        "outputId": "5e5ebdd3-82c7-4eb5-c820-018e9b588677",
        "colab": {
          "base_uri": "https://localhost:8080/",
          "height": 34
        }
      },
      "source": [
        "num2daPos.shape"
      ],
      "execution_count": 15,
      "outputs": [
        {
          "output_type": "execute_result",
          "data": {
            "text/plain": [
              "(784, 1)"
            ]
          },
          "metadata": {
            "tags": []
          },
          "execution_count": 15
        }
      ]
    },
    {
      "cell_type": "code",
      "metadata": {
        "id": "Y4vGKQP1HTl-",
        "colab_type": "code",
        "outputId": "d0acb882-ffed-466a-aaa7-41b60a8dd358",
        "colab": {
          "base_uri": "https://localhost:8080/",
          "height": 235
        }
      },
      "source": [
        "#Calculamos el número de combates de cada Pokemon\n",
        "numCombates = num1eraPos + num2daPos\n",
        "numCombates.head()"
      ],
      "execution_count": 16,
      "outputs": [
        {
          "output_type": "execute_result",
          "data": {
            "text/html": [
              "<div>\n",
              "<style scoped>\n",
              "    .dataframe tbody tr th:only-of-type {\n",
              "        vertical-align: middle;\n",
              "    }\n",
              "\n",
              "    .dataframe tbody tr th {\n",
              "        vertical-align: top;\n",
              "    }\n",
              "\n",
              "    .dataframe thead th {\n",
              "        text-align: right;\n",
              "    }\n",
              "</style>\n",
              "<table border=\"1\" class=\"dataframe\">\n",
              "  <thead>\n",
              "    <tr style=\"text-align: right;\">\n",
              "      <th></th>\n",
              "      <th>Cantidad_Combates</th>\n",
              "    </tr>\n",
              "    <tr>\n",
              "      <th>Primer_Pokemon</th>\n",
              "      <th></th>\n",
              "    </tr>\n",
              "  </thead>\n",
              "  <tbody>\n",
              "    <tr>\n",
              "      <th>1</th>\n",
              "      <td>133</td>\n",
              "    </tr>\n",
              "    <tr>\n",
              "      <th>2</th>\n",
              "      <td>121</td>\n",
              "    </tr>\n",
              "    <tr>\n",
              "      <th>3</th>\n",
              "      <td>132</td>\n",
              "    </tr>\n",
              "    <tr>\n",
              "      <th>4</th>\n",
              "      <td>125</td>\n",
              "    </tr>\n",
              "    <tr>\n",
              "      <th>5</th>\n",
              "      <td>112</td>\n",
              "    </tr>\n",
              "  </tbody>\n",
              "</table>\n",
              "</div>"
            ],
            "text/plain": [
              "                Cantidad_Combates\n",
              "Primer_Pokemon                   \n",
              "1                             133\n",
              "2                             121\n",
              "3                             132\n",
              "4                             125\n",
              "5                             112"
            ]
          },
          "metadata": {
            "tags": []
          },
          "execution_count": 16
        }
      ]
    },
    {
      "cell_type": "code",
      "metadata": {
        "id": "cMqFW6KPHVTI",
        "colab_type": "code",
        "outputId": "248406f8-e617-48e8-8622-008903ad8108",
        "colab": {
          "base_uri": "https://localhost:8080/",
          "height": 204
        }
      },
      "source": [
        "combates.head()"
      ],
      "execution_count": 17,
      "outputs": [
        {
          "output_type": "execute_result",
          "data": {
            "text/html": [
              "<div>\n",
              "<style scoped>\n",
              "    .dataframe tbody tr th:only-of-type {\n",
              "        vertical-align: middle;\n",
              "    }\n",
              "\n",
              "    .dataframe tbody tr th {\n",
              "        vertical-align: top;\n",
              "    }\n",
              "\n",
              "    .dataframe thead th {\n",
              "        text-align: right;\n",
              "    }\n",
              "</style>\n",
              "<table border=\"1\" class=\"dataframe\">\n",
              "  <thead>\n",
              "    <tr style=\"text-align: right;\">\n",
              "      <th></th>\n",
              "      <th>Primer_Pokemon</th>\n",
              "      <th>Segundo_Pokemon</th>\n",
              "      <th>Pokemon_Ganador</th>\n",
              "    </tr>\n",
              "  </thead>\n",
              "  <tbody>\n",
              "    <tr>\n",
              "      <th>0</th>\n",
              "      <td>266</td>\n",
              "      <td>298</td>\n",
              "      <td>298</td>\n",
              "    </tr>\n",
              "    <tr>\n",
              "      <th>1</th>\n",
              "      <td>702</td>\n",
              "      <td>701</td>\n",
              "      <td>701</td>\n",
              "    </tr>\n",
              "    <tr>\n",
              "      <th>2</th>\n",
              "      <td>191</td>\n",
              "      <td>668</td>\n",
              "      <td>668</td>\n",
              "    </tr>\n",
              "    <tr>\n",
              "      <th>3</th>\n",
              "      <td>237</td>\n",
              "      <td>683</td>\n",
              "      <td>683</td>\n",
              "    </tr>\n",
              "    <tr>\n",
              "      <th>4</th>\n",
              "      <td>151</td>\n",
              "      <td>231</td>\n",
              "      <td>151</td>\n",
              "    </tr>\n",
              "  </tbody>\n",
              "</table>\n",
              "</div>"
            ],
            "text/plain": [
              "   Primer_Pokemon  Segundo_Pokemon  Pokemon_Ganador\n",
              "0             266              298              298\n",
              "1             702              701              701\n",
              "2             191              668              668\n",
              "3             237              683              683\n",
              "4             151              231              151"
            ]
          },
          "metadata": {
            "tags": []
          },
          "execution_count": 17
        }
      ]
    },
    {
      "cell_type": "code",
      "metadata": {
        "id": "-wguLJkzHZw3",
        "colab_type": "code",
        "colab": {}
      },
      "source": [
        "#Calculamos el número de combates Ganados de cada Pokemon\n",
        "numGanador = combates.groupby('Pokemon_Ganador').count()\n",
        "numGanador = numGanador.drop(columns=\"Segundo_Pokemon\")\n",
        "numGanador=numGanador.rename(columns={'Primer_Pokemon':'Combates_Ganados'})"
      ],
      "execution_count": 0,
      "outputs": []
    },
    {
      "cell_type": "code",
      "metadata": {
        "id": "-JJ4FeT0HhIo",
        "colab_type": "code",
        "outputId": "5b6cd186-5122-4a84-e279-184a5831eecb",
        "colab": {
          "base_uri": "https://localhost:8080/",
          "height": 235
        }
      },
      "source": [
        "numGanador.index.names = ['NUMERO']\n",
        "numGanador.head()"
      ],
      "execution_count": 19,
      "outputs": [
        {
          "output_type": "execute_result",
          "data": {
            "text/html": [
              "<div>\n",
              "<style scoped>\n",
              "    .dataframe tbody tr th:only-of-type {\n",
              "        vertical-align: middle;\n",
              "    }\n",
              "\n",
              "    .dataframe tbody tr th {\n",
              "        vertical-align: top;\n",
              "    }\n",
              "\n",
              "    .dataframe thead th {\n",
              "        text-align: right;\n",
              "    }\n",
              "</style>\n",
              "<table border=\"1\" class=\"dataframe\">\n",
              "  <thead>\n",
              "    <tr style=\"text-align: right;\">\n",
              "      <th></th>\n",
              "      <th>Combates_Ganados</th>\n",
              "    </tr>\n",
              "    <tr>\n",
              "      <th>NUMERO</th>\n",
              "      <th></th>\n",
              "    </tr>\n",
              "  </thead>\n",
              "  <tbody>\n",
              "    <tr>\n",
              "      <th>1</th>\n",
              "      <td>37</td>\n",
              "    </tr>\n",
              "    <tr>\n",
              "      <th>2</th>\n",
              "      <td>46</td>\n",
              "    </tr>\n",
              "    <tr>\n",
              "      <th>3</th>\n",
              "      <td>89</td>\n",
              "    </tr>\n",
              "    <tr>\n",
              "      <th>4</th>\n",
              "      <td>70</td>\n",
              "    </tr>\n",
              "    <tr>\n",
              "      <th>5</th>\n",
              "      <td>55</td>\n",
              "    </tr>\n",
              "  </tbody>\n",
              "</table>\n",
              "</div>"
            ],
            "text/plain": [
              "        Combates_Ganados\n",
              "NUMERO                  \n",
              "1                     37\n",
              "2                     46\n",
              "3                     89\n",
              "4                     70\n",
              "5                     55"
            ]
          },
          "metadata": {
            "tags": []
          },
          "execution_count": 19
        }
      ]
    },
    {
      "cell_type": "code",
      "metadata": {
        "id": "vRUhwuP0KL7L",
        "colab_type": "code",
        "outputId": "d2c77543-8a87-468a-d149-33230af2a444",
        "colab": {
          "base_uri": "https://localhost:8080/",
          "height": 235
        }
      },
      "source": [
        "numCombates.index.names = ['NUMERO']\n",
        "numCombates.head()"
      ],
      "execution_count": 20,
      "outputs": [
        {
          "output_type": "execute_result",
          "data": {
            "text/html": [
              "<div>\n",
              "<style scoped>\n",
              "    .dataframe tbody tr th:only-of-type {\n",
              "        vertical-align: middle;\n",
              "    }\n",
              "\n",
              "    .dataframe tbody tr th {\n",
              "        vertical-align: top;\n",
              "    }\n",
              "\n",
              "    .dataframe thead th {\n",
              "        text-align: right;\n",
              "    }\n",
              "</style>\n",
              "<table border=\"1\" class=\"dataframe\">\n",
              "  <thead>\n",
              "    <tr style=\"text-align: right;\">\n",
              "      <th></th>\n",
              "      <th>Cantidad_Combates</th>\n",
              "    </tr>\n",
              "    <tr>\n",
              "      <th>NUMERO</th>\n",
              "      <th></th>\n",
              "    </tr>\n",
              "  </thead>\n",
              "  <tbody>\n",
              "    <tr>\n",
              "      <th>1</th>\n",
              "      <td>133</td>\n",
              "    </tr>\n",
              "    <tr>\n",
              "      <th>2</th>\n",
              "      <td>121</td>\n",
              "    </tr>\n",
              "    <tr>\n",
              "      <th>3</th>\n",
              "      <td>132</td>\n",
              "    </tr>\n",
              "    <tr>\n",
              "      <th>4</th>\n",
              "      <td>125</td>\n",
              "    </tr>\n",
              "    <tr>\n",
              "      <th>5</th>\n",
              "      <td>112</td>\n",
              "    </tr>\n",
              "  </tbody>\n",
              "</table>\n",
              "</div>"
            ],
            "text/plain": [
              "        Cantidad_Combates\n",
              "NUMERO                   \n",
              "1                     133\n",
              "2                     121\n",
              "3                     132\n",
              "4                     125\n",
              "5                     112"
            ]
          },
          "metadata": {
            "tags": []
          },
          "execution_count": 20
        }
      ]
    },
    {
      "cell_type": "code",
      "metadata": {
        "id": "FMZbUZxPM4NT",
        "colab_type": "code",
        "outputId": "f4ee3387-05c0-463f-8c52-83c9dca751fe",
        "colab": {
          "base_uri": "https://localhost:8080/",
          "height": 235
        }
      },
      "source": [
        "newPokedex = pd.merge(numCombates,numGanador, how='outer',on='NUMERO')\n",
        "newPokedex['Porcentaje_Victorias'] = (newPokedex['Combates_Ganados'] / newPokedex['Cantidad_Combates']) * 100\n",
        "newPokedex.head()"
      ],
      "execution_count": 21,
      "outputs": [
        {
          "output_type": "execute_result",
          "data": {
            "text/html": [
              "<div>\n",
              "<style scoped>\n",
              "    .dataframe tbody tr th:only-of-type {\n",
              "        vertical-align: middle;\n",
              "    }\n",
              "\n",
              "    .dataframe tbody tr th {\n",
              "        vertical-align: top;\n",
              "    }\n",
              "\n",
              "    .dataframe thead th {\n",
              "        text-align: right;\n",
              "    }\n",
              "</style>\n",
              "<table border=\"1\" class=\"dataframe\">\n",
              "  <thead>\n",
              "    <tr style=\"text-align: right;\">\n",
              "      <th></th>\n",
              "      <th>Cantidad_Combates</th>\n",
              "      <th>Combates_Ganados</th>\n",
              "      <th>Porcentaje_Victorias</th>\n",
              "    </tr>\n",
              "    <tr>\n",
              "      <th>NUMERO</th>\n",
              "      <th></th>\n",
              "      <th></th>\n",
              "      <th></th>\n",
              "    </tr>\n",
              "  </thead>\n",
              "  <tbody>\n",
              "    <tr>\n",
              "      <th>1</th>\n",
              "      <td>133</td>\n",
              "      <td>37.0</td>\n",
              "      <td>27.819549</td>\n",
              "    </tr>\n",
              "    <tr>\n",
              "      <th>2</th>\n",
              "      <td>121</td>\n",
              "      <td>46.0</td>\n",
              "      <td>38.016529</td>\n",
              "    </tr>\n",
              "    <tr>\n",
              "      <th>3</th>\n",
              "      <td>132</td>\n",
              "      <td>89.0</td>\n",
              "      <td>67.424242</td>\n",
              "    </tr>\n",
              "    <tr>\n",
              "      <th>4</th>\n",
              "      <td>125</td>\n",
              "      <td>70.0</td>\n",
              "      <td>56.000000</td>\n",
              "    </tr>\n",
              "    <tr>\n",
              "      <th>5</th>\n",
              "      <td>112</td>\n",
              "      <td>55.0</td>\n",
              "      <td>49.107143</td>\n",
              "    </tr>\n",
              "  </tbody>\n",
              "</table>\n",
              "</div>"
            ],
            "text/plain": [
              "        Cantidad_Combates  Combates_Ganados  Porcentaje_Victorias\n",
              "NUMERO                                                           \n",
              "1                     133              37.0             27.819549\n",
              "2                     121              46.0             38.016529\n",
              "3                     132              89.0             67.424242\n",
              "4                     125              70.0             56.000000\n",
              "5                     112              55.0             49.107143"
            ]
          },
          "metadata": {
            "tags": []
          },
          "execution_count": 21
        }
      ]
    },
    {
      "cell_type": "code",
      "metadata": {
        "id": "qEqWB9UtXjQ9",
        "colab_type": "code",
        "colab": {}
      },
      "source": [
        "#Convertimos el index a columna\n",
        "newPokedex = newPokedex.reset_index()"
      ],
      "execution_count": 0,
      "outputs": []
    },
    {
      "cell_type": "code",
      "metadata": {
        "id": "Y7N65yypYeDn",
        "colab_type": "code",
        "outputId": "16c733f3-cfa6-4844-a1c3-9e5e6f31dda4",
        "colab": {
          "base_uri": "https://localhost:8080/",
          "height": 204
        }
      },
      "source": [
        "newPokedex.head()"
      ],
      "execution_count": 23,
      "outputs": [
        {
          "output_type": "execute_result",
          "data": {
            "text/html": [
              "<div>\n",
              "<style scoped>\n",
              "    .dataframe tbody tr th:only-of-type {\n",
              "        vertical-align: middle;\n",
              "    }\n",
              "\n",
              "    .dataframe tbody tr th {\n",
              "        vertical-align: top;\n",
              "    }\n",
              "\n",
              "    .dataframe thead th {\n",
              "        text-align: right;\n",
              "    }\n",
              "</style>\n",
              "<table border=\"1\" class=\"dataframe\">\n",
              "  <thead>\n",
              "    <tr style=\"text-align: right;\">\n",
              "      <th></th>\n",
              "      <th>NUMERO</th>\n",
              "      <th>Cantidad_Combates</th>\n",
              "      <th>Combates_Ganados</th>\n",
              "      <th>Porcentaje_Victorias</th>\n",
              "    </tr>\n",
              "  </thead>\n",
              "  <tbody>\n",
              "    <tr>\n",
              "      <th>0</th>\n",
              "      <td>1</td>\n",
              "      <td>133</td>\n",
              "      <td>37.0</td>\n",
              "      <td>27.819549</td>\n",
              "    </tr>\n",
              "    <tr>\n",
              "      <th>1</th>\n",
              "      <td>2</td>\n",
              "      <td>121</td>\n",
              "      <td>46.0</td>\n",
              "      <td>38.016529</td>\n",
              "    </tr>\n",
              "    <tr>\n",
              "      <th>2</th>\n",
              "      <td>3</td>\n",
              "      <td>132</td>\n",
              "      <td>89.0</td>\n",
              "      <td>67.424242</td>\n",
              "    </tr>\n",
              "    <tr>\n",
              "      <th>3</th>\n",
              "      <td>4</td>\n",
              "      <td>125</td>\n",
              "      <td>70.0</td>\n",
              "      <td>56.000000</td>\n",
              "    </tr>\n",
              "    <tr>\n",
              "      <th>4</th>\n",
              "      <td>5</td>\n",
              "      <td>112</td>\n",
              "      <td>55.0</td>\n",
              "      <td>49.107143</td>\n",
              "    </tr>\n",
              "  </tbody>\n",
              "</table>\n",
              "</div>"
            ],
            "text/plain": [
              "   NUMERO  Cantidad_Combates  Combates_Ganados  Porcentaje_Victorias\n",
              "0       1                133              37.0             27.819549\n",
              "1       2                121              46.0             38.016529\n",
              "2       3                132              89.0             67.424242\n",
              "3       4                125              70.0             56.000000\n",
              "4       5                112              55.0             49.107143"
            ]
          },
          "metadata": {
            "tags": []
          },
          "execution_count": 23
        }
      ]
    },
    {
      "cell_type": "code",
      "metadata": {
        "id": "PZcWOu2-M9wr",
        "colab_type": "code",
        "outputId": "956f98ab-e8ef-43b0-b955-68d47d3fa418",
        "colab": {
          "base_uri": "https://localhost:8080/",
          "height": 241
        }
      },
      "source": [
        "#Recordamos la estructura del dataframe nuestroPokemon\n",
        "nuestroPokemon.head()"
      ],
      "execution_count": 24,
      "outputs": [
        {
          "output_type": "execute_result",
          "data": {
            "text/html": [
              "<div>\n",
              "<style scoped>\n",
              "    .dataframe tbody tr th:only-of-type {\n",
              "        vertical-align: middle;\n",
              "    }\n",
              "\n",
              "    .dataframe tbody tr th {\n",
              "        vertical-align: top;\n",
              "    }\n",
              "\n",
              "    .dataframe thead th {\n",
              "        text-align: right;\n",
              "    }\n",
              "</style>\n",
              "<table border=\"1\" class=\"dataframe\">\n",
              "  <thead>\n",
              "    <tr style=\"text-align: right;\">\n",
              "      <th></th>\n",
              "      <th>NUMERO</th>\n",
              "      <th>NOMBRE</th>\n",
              "      <th>TIPO_1</th>\n",
              "      <th>TIPO_2</th>\n",
              "      <th>PUNTOS_DE_VIDA</th>\n",
              "      <th>PUNTOS_ATAQUE</th>\n",
              "      <th>PUNTOS_DEFENSA</th>\n",
              "      <th>PUNTOS_ATAQUE_ESPECIAL</th>\n",
              "      <th>PUNTO_DEFENSA_ESPECIAL</th>\n",
              "      <th>PUNTOS_VELOCIDAD</th>\n",
              "      <th>NOMBRE_GENERATIONS</th>\n",
              "      <th>LEGENDARIO</th>\n",
              "    </tr>\n",
              "  </thead>\n",
              "  <tbody>\n",
              "    <tr>\n",
              "      <th>0</th>\n",
              "      <td>1</td>\n",
              "      <td>Bulbasaur</td>\n",
              "      <td>Planta</td>\n",
              "      <td>Veneno</td>\n",
              "      <td>45</td>\n",
              "      <td>49</td>\n",
              "      <td>49</td>\n",
              "      <td>65</td>\n",
              "      <td>65</td>\n",
              "      <td>45</td>\n",
              "      <td>1</td>\n",
              "      <td>0</td>\n",
              "    </tr>\n",
              "    <tr>\n",
              "      <th>1</th>\n",
              "      <td>2</td>\n",
              "      <td>Ivysaur</td>\n",
              "      <td>Planta</td>\n",
              "      <td>Veneno</td>\n",
              "      <td>60</td>\n",
              "      <td>62</td>\n",
              "      <td>63</td>\n",
              "      <td>80</td>\n",
              "      <td>80</td>\n",
              "      <td>60</td>\n",
              "      <td>1</td>\n",
              "      <td>0</td>\n",
              "    </tr>\n",
              "    <tr>\n",
              "      <th>2</th>\n",
              "      <td>3</td>\n",
              "      <td>Venusaur</td>\n",
              "      <td>Planta</td>\n",
              "      <td>Veneno</td>\n",
              "      <td>80</td>\n",
              "      <td>82</td>\n",
              "      <td>83</td>\n",
              "      <td>100</td>\n",
              "      <td>100</td>\n",
              "      <td>80</td>\n",
              "      <td>1</td>\n",
              "      <td>0</td>\n",
              "    </tr>\n",
              "    <tr>\n",
              "      <th>3</th>\n",
              "      <td>4</td>\n",
              "      <td>Mega Venusaur</td>\n",
              "      <td>Planta</td>\n",
              "      <td>Veneno</td>\n",
              "      <td>80</td>\n",
              "      <td>100</td>\n",
              "      <td>123</td>\n",
              "      <td>122</td>\n",
              "      <td>120</td>\n",
              "      <td>80</td>\n",
              "      <td>1</td>\n",
              "      <td>0</td>\n",
              "    </tr>\n",
              "    <tr>\n",
              "      <th>4</th>\n",
              "      <td>5</td>\n",
              "      <td>Charmander</td>\n",
              "      <td>Fuego</td>\n",
              "      <td>NaN</td>\n",
              "      <td>39</td>\n",
              "      <td>52</td>\n",
              "      <td>43</td>\n",
              "      <td>60</td>\n",
              "      <td>50</td>\n",
              "      <td>65</td>\n",
              "      <td>1</td>\n",
              "      <td>0</td>\n",
              "    </tr>\n",
              "  </tbody>\n",
              "</table>\n",
              "</div>"
            ],
            "text/plain": [
              "   NUMERO         NOMBRE  ... NOMBRE_GENERATIONS LEGENDARIO\n",
              "0       1      Bulbasaur  ...                  1          0\n",
              "1       2        Ivysaur  ...                  1          0\n",
              "2       3       Venusaur  ...                  1          0\n",
              "3       4  Mega Venusaur  ...                  1          0\n",
              "4       5     Charmander  ...                  1          0\n",
              "\n",
              "[5 rows x 12 columns]"
            ]
          },
          "metadata": {
            "tags": []
          },
          "execution_count": 24
        }
      ]
    },
    {
      "cell_type": "markdown",
      "metadata": {
        "id": "hG3KzpjKkdAQ",
        "colab_type": "text"
      },
      "source": [
        "###Juntamos los dataframes nuestroPokemon y newPokedex"
      ]
    },
    {
      "cell_type": "code",
      "metadata": {
        "id": "Q9QiT9scoyQH",
        "colab_type": "code",
        "outputId": "fd1bc41f-81d5-4f83-9b6c-d6ec4d37baf9",
        "colab": {
          "base_uri": "https://localhost:8080/",
          "height": 275
        }
      },
      "source": [
        "pokedexUltimate = pd.merge(nuestroPokemon,newPokedex, how='inner', on='NUMERO')\n",
        "pokedexUltimate.tail()"
      ],
      "execution_count": 25,
      "outputs": [
        {
          "output_type": "execute_result",
          "data": {
            "text/html": [
              "<div>\n",
              "<style scoped>\n",
              "    .dataframe tbody tr th:only-of-type {\n",
              "        vertical-align: middle;\n",
              "    }\n",
              "\n",
              "    .dataframe tbody tr th {\n",
              "        vertical-align: top;\n",
              "    }\n",
              "\n",
              "    .dataframe thead th {\n",
              "        text-align: right;\n",
              "    }\n",
              "</style>\n",
              "<table border=\"1\" class=\"dataframe\">\n",
              "  <thead>\n",
              "    <tr style=\"text-align: right;\">\n",
              "      <th></th>\n",
              "      <th>NUMERO</th>\n",
              "      <th>NOMBRE</th>\n",
              "      <th>TIPO_1</th>\n",
              "      <th>TIPO_2</th>\n",
              "      <th>PUNTOS_DE_VIDA</th>\n",
              "      <th>PUNTOS_ATAQUE</th>\n",
              "      <th>PUNTOS_DEFENSA</th>\n",
              "      <th>PUNTOS_ATAQUE_ESPECIAL</th>\n",
              "      <th>PUNTO_DEFENSA_ESPECIAL</th>\n",
              "      <th>PUNTOS_VELOCIDAD</th>\n",
              "      <th>NOMBRE_GENERATIONS</th>\n",
              "      <th>LEGENDARIO</th>\n",
              "      <th>Cantidad_Combates</th>\n",
              "      <th>Combates_Ganados</th>\n",
              "      <th>Porcentaje_Victorias</th>\n",
              "    </tr>\n",
              "  </thead>\n",
              "  <tbody>\n",
              "    <tr>\n",
              "      <th>779</th>\n",
              "      <td>796</td>\n",
              "      <td>Diancie</td>\n",
              "      <td>Roca</td>\n",
              "      <td>Hada</td>\n",
              "      <td>50</td>\n",
              "      <td>100</td>\n",
              "      <td>150</td>\n",
              "      <td>100</td>\n",
              "      <td>150</td>\n",
              "      <td>50</td>\n",
              "      <td>6</td>\n",
              "      <td>1</td>\n",
              "      <td>105</td>\n",
              "      <td>39.0</td>\n",
              "      <td>37.142857</td>\n",
              "    </tr>\n",
              "    <tr>\n",
              "      <th>780</th>\n",
              "      <td>797</td>\n",
              "      <td>Mega Diancie</td>\n",
              "      <td>Roca</td>\n",
              "      <td>Hada</td>\n",
              "      <td>50</td>\n",
              "      <td>160</td>\n",
              "      <td>110</td>\n",
              "      <td>160</td>\n",
              "      <td>110</td>\n",
              "      <td>110</td>\n",
              "      <td>6</td>\n",
              "      <td>1</td>\n",
              "      <td>131</td>\n",
              "      <td>116.0</td>\n",
              "      <td>88.549618</td>\n",
              "    </tr>\n",
              "    <tr>\n",
              "      <th>781</th>\n",
              "      <td>798</td>\n",
              "      <td>Hoopa contenido</td>\n",
              "      <td>Psiquico</td>\n",
              "      <td>Fantasma</td>\n",
              "      <td>80</td>\n",
              "      <td>110</td>\n",
              "      <td>60</td>\n",
              "      <td>150</td>\n",
              "      <td>130</td>\n",
              "      <td>70</td>\n",
              "      <td>6</td>\n",
              "      <td>1</td>\n",
              "      <td>119</td>\n",
              "      <td>60.0</td>\n",
              "      <td>50.420168</td>\n",
              "    </tr>\n",
              "    <tr>\n",
              "      <th>782</th>\n",
              "      <td>799</td>\n",
              "      <td>Hoopa desatado</td>\n",
              "      <td>Psiquico</td>\n",
              "      <td>Siniestro</td>\n",
              "      <td>80</td>\n",
              "      <td>160</td>\n",
              "      <td>60</td>\n",
              "      <td>170</td>\n",
              "      <td>130</td>\n",
              "      <td>80</td>\n",
              "      <td>6</td>\n",
              "      <td>1</td>\n",
              "      <td>144</td>\n",
              "      <td>89.0</td>\n",
              "      <td>61.805556</td>\n",
              "    </tr>\n",
              "    <tr>\n",
              "      <th>783</th>\n",
              "      <td>800</td>\n",
              "      <td>Volcanion</td>\n",
              "      <td>Fuego</td>\n",
              "      <td>Agua</td>\n",
              "      <td>80</td>\n",
              "      <td>110</td>\n",
              "      <td>120</td>\n",
              "      <td>130</td>\n",
              "      <td>90</td>\n",
              "      <td>70</td>\n",
              "      <td>6</td>\n",
              "      <td>1</td>\n",
              "      <td>121</td>\n",
              "      <td>75.0</td>\n",
              "      <td>61.983471</td>\n",
              "    </tr>\n",
              "  </tbody>\n",
              "</table>\n",
              "</div>"
            ],
            "text/plain": [
              "     NUMERO           NOMBRE  ... Combates_Ganados Porcentaje_Victorias\n",
              "779     796          Diancie  ...             39.0            37.142857\n",
              "780     797     Mega Diancie  ...            116.0            88.549618\n",
              "781     798  Hoopa contenido  ...             60.0            50.420168\n",
              "782     799   Hoopa desatado  ...             89.0            61.805556\n",
              "783     800        Volcanion  ...             75.0            61.983471\n",
              "\n",
              "[5 rows x 15 columns]"
            ]
          },
          "metadata": {
            "tags": []
          },
          "execution_count": 25
        }
      ]
    },
    {
      "cell_type": "code",
      "metadata": {
        "id": "cG3twOOv0Azj",
        "colab_type": "code",
        "outputId": "5cbc9d7e-0ff0-4922-fe5d-69fd3e20fb77",
        "colab": {
          "base_uri": "https://localhost:8080/",
          "height": 391
        }
      },
      "source": [
        "pokedexUltimate.info()"
      ],
      "execution_count": 26,
      "outputs": [
        {
          "output_type": "stream",
          "text": [
            "<class 'pandas.core.frame.DataFrame'>\n",
            "Int64Index: 784 entries, 0 to 783\n",
            "Data columns (total 15 columns):\n",
            " #   Column                  Non-Null Count  Dtype  \n",
            "---  ------                  --------------  -----  \n",
            " 0   NUMERO                  784 non-null    int64  \n",
            " 1   NOMBRE                  784 non-null    object \n",
            " 2   TIPO_1                  784 non-null    object \n",
            " 3   TIPO_2                  405 non-null    object \n",
            " 4   PUNTOS_DE_VIDA          784 non-null    int64  \n",
            " 5   PUNTOS_ATAQUE           784 non-null    int64  \n",
            " 6   PUNTOS_DEFENSA          784 non-null    int64  \n",
            " 7   PUNTOS_ATAQUE_ESPECIAL  784 non-null    int64  \n",
            " 8   PUNTO_DEFENSA_ESPECIAL  784 non-null    int64  \n",
            " 9   PUNTOS_VELOCIDAD        784 non-null    int64  \n",
            " 10  NOMBRE_GENERATIONS      784 non-null    int64  \n",
            " 11  LEGENDARIO              784 non-null    int64  \n",
            " 12  Cantidad_Combates       784 non-null    int64  \n",
            " 13  Combates_Ganados        783 non-null    float64\n",
            " 14  Porcentaje_Victorias    783 non-null    float64\n",
            "dtypes: float64(2), int64(10), object(3)\n",
            "memory usage: 98.0+ KB\n"
          ],
          "name": "stdout"
        }
      ]
    },
    {
      "cell_type": "code",
      "metadata": {
        "id": "PtBG06t_v_-t",
        "colab_type": "code",
        "outputId": "17a3d564-1cac-490c-d716-c983a0f3c405",
        "colab": {
          "base_uri": "https://localhost:8080/",
          "height": 34
        }
      },
      "source": [
        "#Confirmamos que hay valores vacios en la columna combates ganados\n",
        "pokedexUltimate['Combates_Ganados'].isnull().values.any()"
      ],
      "execution_count": 27,
      "outputs": [
        {
          "output_type": "execute_result",
          "data": {
            "text/plain": [
              "True"
            ]
          },
          "metadata": {
            "tags": []
          },
          "execution_count": 27
        }
      ]
    },
    {
      "cell_type": "code",
      "metadata": {
        "id": "6d05GR0JxXdI",
        "colab_type": "code",
        "colab": {}
      },
      "source": [
        "#Como encontramos valores null lo reemplazamos por 0 cero\n",
        "pokedexUltimate = pokedexUltimate.fillna(0)"
      ],
      "execution_count": 0,
      "outputs": []
    },
    {
      "cell_type": "code",
      "metadata": {
        "id": "QfNw6DgYk3WI",
        "colab_type": "code",
        "outputId": "daef2d7a-530c-4a6a-a2f4-23b13e85752e",
        "colab": {
          "base_uri": "https://localhost:8080/",
          "height": 391
        }
      },
      "source": [
        "pokedexUltimate.info()"
      ],
      "execution_count": 29,
      "outputs": [
        {
          "output_type": "stream",
          "text": [
            "<class 'pandas.core.frame.DataFrame'>\n",
            "Int64Index: 784 entries, 0 to 783\n",
            "Data columns (total 15 columns):\n",
            " #   Column                  Non-Null Count  Dtype  \n",
            "---  ------                  --------------  -----  \n",
            " 0   NUMERO                  784 non-null    int64  \n",
            " 1   NOMBRE                  784 non-null    object \n",
            " 2   TIPO_1                  784 non-null    object \n",
            " 3   TIPO_2                  784 non-null    object \n",
            " 4   PUNTOS_DE_VIDA          784 non-null    int64  \n",
            " 5   PUNTOS_ATAQUE           784 non-null    int64  \n",
            " 6   PUNTOS_DEFENSA          784 non-null    int64  \n",
            " 7   PUNTOS_ATAQUE_ESPECIAL  784 non-null    int64  \n",
            " 8   PUNTO_DEFENSA_ESPECIAL  784 non-null    int64  \n",
            " 9   PUNTOS_VELOCIDAD        784 non-null    int64  \n",
            " 10  NOMBRE_GENERATIONS      784 non-null    int64  \n",
            " 11  LEGENDARIO              784 non-null    int64  \n",
            " 12  Cantidad_Combates       784 non-null    int64  \n",
            " 13  Combates_Ganados        784 non-null    float64\n",
            " 14  Porcentaje_Victorias    784 non-null    float64\n",
            "dtypes: float64(2), int64(10), object(3)\n",
            "memory usage: 98.0+ KB\n"
          ],
          "name": "stdout"
        }
      ]
    },
    {
      "cell_type": "markdown",
      "metadata": {
        "id": "bP1gs5hT1Brq",
        "colab_type": "text"
      },
      "source": [
        "**PROCESO DE ANALISIS**"
      ]
    },
    {
      "cell_type": "code",
      "metadata": {
        "id": "8U-PH7h-z01l",
        "colab_type": "code",
        "outputId": "bd698eb3-0920-4d96-8898-a826f079ca73",
        "colab": {
          "base_uri": "https://localhost:8080/",
          "height": 317
        }
      },
      "source": [
        "pokedexUltimate.describe()"
      ],
      "execution_count": 30,
      "outputs": [
        {
          "output_type": "execute_result",
          "data": {
            "text/html": [
              "<div>\n",
              "<style scoped>\n",
              "    .dataframe tbody tr th:only-of-type {\n",
              "        vertical-align: middle;\n",
              "    }\n",
              "\n",
              "    .dataframe tbody tr th {\n",
              "        vertical-align: top;\n",
              "    }\n",
              "\n",
              "    .dataframe thead th {\n",
              "        text-align: right;\n",
              "    }\n",
              "</style>\n",
              "<table border=\"1\" class=\"dataframe\">\n",
              "  <thead>\n",
              "    <tr style=\"text-align: right;\">\n",
              "      <th></th>\n",
              "      <th>NUMERO</th>\n",
              "      <th>PUNTOS_DE_VIDA</th>\n",
              "      <th>PUNTOS_ATAQUE</th>\n",
              "      <th>PUNTOS_DEFENSA</th>\n",
              "      <th>PUNTOS_ATAQUE_ESPECIAL</th>\n",
              "      <th>PUNTO_DEFENSA_ESPECIAL</th>\n",
              "      <th>PUNTOS_VELOCIDAD</th>\n",
              "      <th>NOMBRE_GENERATIONS</th>\n",
              "      <th>LEGENDARIO</th>\n",
              "      <th>Cantidad_Combates</th>\n",
              "      <th>Combates_Ganados</th>\n",
              "      <th>Porcentaje_Victorias</th>\n",
              "    </tr>\n",
              "  </thead>\n",
              "  <tbody>\n",
              "    <tr>\n",
              "      <th>count</th>\n",
              "      <td>784.000000</td>\n",
              "      <td>784.000000</td>\n",
              "      <td>784.000000</td>\n",
              "      <td>784.000000</td>\n",
              "      <td>784.000000</td>\n",
              "      <td>784.000000</td>\n",
              "      <td>784.000000</td>\n",
              "      <td>784.000000</td>\n",
              "      <td>784.000000</td>\n",
              "      <td>784.000000</td>\n",
              "      <td>784.000000</td>\n",
              "      <td>784.000000</td>\n",
              "    </tr>\n",
              "    <tr>\n",
              "      <th>mean</th>\n",
              "      <td>402.654337</td>\n",
              "      <td>69.077806</td>\n",
              "      <td>78.919643</td>\n",
              "      <td>73.899235</td>\n",
              "      <td>72.758929</td>\n",
              "      <td>71.951531</td>\n",
              "      <td>68.362245</td>\n",
              "      <td>3.338010</td>\n",
              "      <td>0.081633</td>\n",
              "      <td>127.551020</td>\n",
              "      <td>63.775510</td>\n",
              "      <td>50.089857</td>\n",
              "    </tr>\n",
              "    <tr>\n",
              "      <th>std</th>\n",
              "      <td>230.232187</td>\n",
              "      <td>25.393311</td>\n",
              "      <td>32.575170</td>\n",
              "      <td>31.360815</td>\n",
              "      <td>32.729033</td>\n",
              "      <td>27.811906</td>\n",
              "      <td>29.227411</td>\n",
              "      <td>1.656069</td>\n",
              "      <td>0.273979</td>\n",
              "      <td>11.393236</td>\n",
              "      <td>32.983848</td>\n",
              "      <td>25.545860</td>\n",
              "    </tr>\n",
              "    <tr>\n",
              "      <th>min</th>\n",
              "      <td>1.000000</td>\n",
              "      <td>1.000000</td>\n",
              "      <td>5.000000</td>\n",
              "      <td>5.000000</td>\n",
              "      <td>10.000000</td>\n",
              "      <td>20.000000</td>\n",
              "      <td>5.000000</td>\n",
              "      <td>1.000000</td>\n",
              "      <td>0.000000</td>\n",
              "      <td>92.000000</td>\n",
              "      <td>0.000000</td>\n",
              "      <td>0.000000</td>\n",
              "    </tr>\n",
              "    <tr>\n",
              "      <th>25%</th>\n",
              "      <td>204.750000</td>\n",
              "      <td>50.000000</td>\n",
              "      <td>55.000000</td>\n",
              "      <td>50.000000</td>\n",
              "      <td>50.000000</td>\n",
              "      <td>50.000000</td>\n",
              "      <td>45.000000</td>\n",
              "      <td>2.000000</td>\n",
              "      <td>0.000000</td>\n",
              "      <td>120.000000</td>\n",
              "      <td>36.000000</td>\n",
              "      <td>28.370398</td>\n",
              "    </tr>\n",
              "    <tr>\n",
              "      <th>50%</th>\n",
              "      <td>402.500000</td>\n",
              "      <td>65.000000</td>\n",
              "      <td>75.000000</td>\n",
              "      <td>70.000000</td>\n",
              "      <td>65.000000</td>\n",
              "      <td>70.000000</td>\n",
              "      <td>65.000000</td>\n",
              "      <td>3.000000</td>\n",
              "      <td>0.000000</td>\n",
              "      <td>128.000000</td>\n",
              "      <td>61.500000</td>\n",
              "      <td>49.090608</td>\n",
              "    </tr>\n",
              "    <tr>\n",
              "      <th>75%</th>\n",
              "      <td>601.250000</td>\n",
              "      <td>80.000000</td>\n",
              "      <td>100.000000</td>\n",
              "      <td>90.000000</td>\n",
              "      <td>95.000000</td>\n",
              "      <td>90.000000</td>\n",
              "      <td>90.000000</td>\n",
              "      <td>5.000000</td>\n",
              "      <td>0.000000</td>\n",
              "      <td>135.000000</td>\n",
              "      <td>91.000000</td>\n",
              "      <td>71.737440</td>\n",
              "    </tr>\n",
              "    <tr>\n",
              "      <th>max</th>\n",
              "      <td>800.000000</td>\n",
              "      <td>255.000000</td>\n",
              "      <td>190.000000</td>\n",
              "      <td>230.000000</td>\n",
              "      <td>194.000000</td>\n",
              "      <td>230.000000</td>\n",
              "      <td>180.000000</td>\n",
              "      <td>6.000000</td>\n",
              "      <td>1.000000</td>\n",
              "      <td>164.000000</td>\n",
              "      <td>152.000000</td>\n",
              "      <td>98.449612</td>\n",
              "    </tr>\n",
              "  </tbody>\n",
              "</table>\n",
              "</div>"
            ],
            "text/plain": [
              "           NUMERO  PUNTOS_DE_VIDA  ...  Combates_Ganados  Porcentaje_Victorias\n",
              "count  784.000000      784.000000  ...        784.000000            784.000000\n",
              "mean   402.654337       69.077806  ...         63.775510             50.089857\n",
              "std    230.232187       25.393311  ...         32.983848             25.545860\n",
              "min      1.000000        1.000000  ...          0.000000              0.000000\n",
              "25%    204.750000       50.000000  ...         36.000000             28.370398\n",
              "50%    402.500000       65.000000  ...         61.500000             49.090608\n",
              "75%    601.250000       80.000000  ...         91.000000             71.737440\n",
              "max    800.000000      255.000000  ...        152.000000             98.449612\n",
              "\n",
              "[8 rows x 12 columns]"
            ]
          },
          "metadata": {
            "tags": []
          },
          "execution_count": 30
        }
      ]
    },
    {
      "cell_type": "code",
      "metadata": {
        "id": "xTpswYa3yQ2B",
        "colab_type": "code",
        "outputId": "b576152b-1cfd-438b-9d85-9451da6dd5cd",
        "colab": {
          "base_uri": "https://localhost:8080/",
          "height": 241
        }
      },
      "source": [
        "pokedexUltimate.head()"
      ],
      "execution_count": 31,
      "outputs": [
        {
          "output_type": "execute_result",
          "data": {
            "text/html": [
              "<div>\n",
              "<style scoped>\n",
              "    .dataframe tbody tr th:only-of-type {\n",
              "        vertical-align: middle;\n",
              "    }\n",
              "\n",
              "    .dataframe tbody tr th {\n",
              "        vertical-align: top;\n",
              "    }\n",
              "\n",
              "    .dataframe thead th {\n",
              "        text-align: right;\n",
              "    }\n",
              "</style>\n",
              "<table border=\"1\" class=\"dataframe\">\n",
              "  <thead>\n",
              "    <tr style=\"text-align: right;\">\n",
              "      <th></th>\n",
              "      <th>NUMERO</th>\n",
              "      <th>NOMBRE</th>\n",
              "      <th>TIPO_1</th>\n",
              "      <th>TIPO_2</th>\n",
              "      <th>PUNTOS_DE_VIDA</th>\n",
              "      <th>PUNTOS_ATAQUE</th>\n",
              "      <th>PUNTOS_DEFENSA</th>\n",
              "      <th>PUNTOS_ATAQUE_ESPECIAL</th>\n",
              "      <th>PUNTO_DEFENSA_ESPECIAL</th>\n",
              "      <th>PUNTOS_VELOCIDAD</th>\n",
              "      <th>NOMBRE_GENERATIONS</th>\n",
              "      <th>LEGENDARIO</th>\n",
              "      <th>Cantidad_Combates</th>\n",
              "      <th>Combates_Ganados</th>\n",
              "      <th>Porcentaje_Victorias</th>\n",
              "    </tr>\n",
              "  </thead>\n",
              "  <tbody>\n",
              "    <tr>\n",
              "      <th>0</th>\n",
              "      <td>1</td>\n",
              "      <td>Bulbasaur</td>\n",
              "      <td>Planta</td>\n",
              "      <td>Veneno</td>\n",
              "      <td>45</td>\n",
              "      <td>49</td>\n",
              "      <td>49</td>\n",
              "      <td>65</td>\n",
              "      <td>65</td>\n",
              "      <td>45</td>\n",
              "      <td>1</td>\n",
              "      <td>0</td>\n",
              "      <td>133</td>\n",
              "      <td>37.0</td>\n",
              "      <td>27.819549</td>\n",
              "    </tr>\n",
              "    <tr>\n",
              "      <th>1</th>\n",
              "      <td>2</td>\n",
              "      <td>Ivysaur</td>\n",
              "      <td>Planta</td>\n",
              "      <td>Veneno</td>\n",
              "      <td>60</td>\n",
              "      <td>62</td>\n",
              "      <td>63</td>\n",
              "      <td>80</td>\n",
              "      <td>80</td>\n",
              "      <td>60</td>\n",
              "      <td>1</td>\n",
              "      <td>0</td>\n",
              "      <td>121</td>\n",
              "      <td>46.0</td>\n",
              "      <td>38.016529</td>\n",
              "    </tr>\n",
              "    <tr>\n",
              "      <th>2</th>\n",
              "      <td>3</td>\n",
              "      <td>Venusaur</td>\n",
              "      <td>Planta</td>\n",
              "      <td>Veneno</td>\n",
              "      <td>80</td>\n",
              "      <td>82</td>\n",
              "      <td>83</td>\n",
              "      <td>100</td>\n",
              "      <td>100</td>\n",
              "      <td>80</td>\n",
              "      <td>1</td>\n",
              "      <td>0</td>\n",
              "      <td>132</td>\n",
              "      <td>89.0</td>\n",
              "      <td>67.424242</td>\n",
              "    </tr>\n",
              "    <tr>\n",
              "      <th>3</th>\n",
              "      <td>4</td>\n",
              "      <td>Mega Venusaur</td>\n",
              "      <td>Planta</td>\n",
              "      <td>Veneno</td>\n",
              "      <td>80</td>\n",
              "      <td>100</td>\n",
              "      <td>123</td>\n",
              "      <td>122</td>\n",
              "      <td>120</td>\n",
              "      <td>80</td>\n",
              "      <td>1</td>\n",
              "      <td>0</td>\n",
              "      <td>125</td>\n",
              "      <td>70.0</td>\n",
              "      <td>56.000000</td>\n",
              "    </tr>\n",
              "    <tr>\n",
              "      <th>4</th>\n",
              "      <td>5</td>\n",
              "      <td>Charmander</td>\n",
              "      <td>Fuego</td>\n",
              "      <td>0</td>\n",
              "      <td>39</td>\n",
              "      <td>52</td>\n",
              "      <td>43</td>\n",
              "      <td>60</td>\n",
              "      <td>50</td>\n",
              "      <td>65</td>\n",
              "      <td>1</td>\n",
              "      <td>0</td>\n",
              "      <td>112</td>\n",
              "      <td>55.0</td>\n",
              "      <td>49.107143</td>\n",
              "    </tr>\n",
              "  </tbody>\n",
              "</table>\n",
              "</div>"
            ],
            "text/plain": [
              "   NUMERO         NOMBRE  ... Combates_Ganados Porcentaje_Victorias\n",
              "0       1      Bulbasaur  ...             37.0            27.819549\n",
              "1       2        Ivysaur  ...             46.0            38.016529\n",
              "2       3       Venusaur  ...             89.0            67.424242\n",
              "3       4  Mega Venusaur  ...             70.0            56.000000\n",
              "4       5     Charmander  ...             55.0            49.107143\n",
              "\n",
              "[5 rows x 15 columns]"
            ]
          },
          "metadata": {
            "tags": []
          },
          "execution_count": 31
        }
      ]
    },
    {
      "cell_type": "markdown",
      "metadata": {
        "id": "yEUj3S-IgxFq",
        "colab_type": "text"
      },
      "source": [
        "# Clasificamos el **porcentaje de victorias** de acuerdo el **Tipo de pokemon**"
      ]
    },
    {
      "cell_type": "code",
      "metadata": {
        "id": "bvhvy70Jn6OH",
        "colab_type": "code",
        "outputId": "bd6a444b-abdb-4df4-ead3-05924a4a4344",
        "colab": {
          "base_uri": "https://localhost:8080/",
          "height": 638
        }
      },
      "source": [
        "tipoVictoria = pokedexUltimate.groupby('TIPO_1').agg({\"Porcentaje_Victorias\":\n",
        "\"mean\"}).sort_values(by = \"Porcentaje_Victorias\")\n",
        "tipoVictoria"
      ],
      "execution_count": 32,
      "outputs": [
        {
          "output_type": "execute_result",
          "data": {
            "text/html": [
              "<div>\n",
              "<style scoped>\n",
              "    .dataframe tbody tr th:only-of-type {\n",
              "        vertical-align: middle;\n",
              "    }\n",
              "\n",
              "    .dataframe tbody tr th {\n",
              "        vertical-align: top;\n",
              "    }\n",
              "\n",
              "    .dataframe thead th {\n",
              "        text-align: right;\n",
              "    }\n",
              "</style>\n",
              "<table border=\"1\" class=\"dataframe\">\n",
              "  <thead>\n",
              "    <tr style=\"text-align: right;\">\n",
              "      <th></th>\n",
              "      <th>Porcentaje_Victorias</th>\n",
              "    </tr>\n",
              "    <tr>\n",
              "      <th>TIPO_1</th>\n",
              "      <th></th>\n",
              "    </tr>\n",
              "  </thead>\n",
              "  <tbody>\n",
              "    <tr>\n",
              "      <th>Hada</th>\n",
              "      <td>32.930002</td>\n",
              "    </tr>\n",
              "    <tr>\n",
              "      <th>Roca</th>\n",
              "      <td>40.485183</td>\n",
              "    </tr>\n",
              "    <tr>\n",
              "      <th>Acero</th>\n",
              "      <td>42.452884</td>\n",
              "    </tr>\n",
              "    <tr>\n",
              "      <th>Bicho</th>\n",
              "      <td>43.254956</td>\n",
              "    </tr>\n",
              "    <tr>\n",
              "      <th>Veneno</th>\n",
              "      <td>43.326152</td>\n",
              "    </tr>\n",
              "    <tr>\n",
              "      <th>Hielo</th>\n",
              "      <td>43.960429</td>\n",
              "    </tr>\n",
              "    <tr>\n",
              "      <th>Planta</th>\n",
              "      <td>44.036424</td>\n",
              "    </tr>\n",
              "    <tr>\n",
              "      <th>Agua</th>\n",
              "      <td>46.935735</td>\n",
              "    </tr>\n",
              "    <tr>\n",
              "      <th>Combate</th>\n",
              "      <td>47.561600</td>\n",
              "    </tr>\n",
              "    <tr>\n",
              "      <th>Fantasma</th>\n",
              "      <td>48.402723</td>\n",
              "    </tr>\n",
              "    <tr>\n",
              "      <th>Normal</th>\n",
              "      <td>53.557796</td>\n",
              "    </tr>\n",
              "    <tr>\n",
              "      <th>Tierra</th>\n",
              "      <td>54.152584</td>\n",
              "    </tr>\n",
              "    <tr>\n",
              "      <th>Psiquico</th>\n",
              "      <td>54.574733</td>\n",
              "    </tr>\n",
              "    <tr>\n",
              "      <th>Fuego</th>\n",
              "      <td>57.921460</td>\n",
              "    </tr>\n",
              "    <tr>\n",
              "      <th>Siniestro</th>\n",
              "      <td>62.972601</td>\n",
              "    </tr>\n",
              "    <tr>\n",
              "      <th>Electrico</th>\n",
              "      <td>63.286084</td>\n",
              "    </tr>\n",
              "    <tr>\n",
              "      <th>Dragon</th>\n",
              "      <td>63.358734</td>\n",
              "    </tr>\n",
              "    <tr>\n",
              "      <th>Volador</th>\n",
              "      <td>76.506056</td>\n",
              "    </tr>\n",
              "  </tbody>\n",
              "</table>\n",
              "</div>"
            ],
            "text/plain": [
              "           Porcentaje_Victorias\n",
              "TIPO_1                         \n",
              "Hada                  32.930002\n",
              "Roca                  40.485183\n",
              "Acero                 42.452884\n",
              "Bicho                 43.254956\n",
              "Veneno                43.326152\n",
              "Hielo                 43.960429\n",
              "Planta                44.036424\n",
              "Agua                  46.935735\n",
              "Combate               47.561600\n",
              "Fantasma              48.402723\n",
              "Normal                53.557796\n",
              "Tierra                54.152584\n",
              "Psiquico              54.574733\n",
              "Fuego                 57.921460\n",
              "Siniestro             62.972601\n",
              "Electrico             63.286084\n",
              "Dragon                63.358734\n",
              "Volador               76.506056"
            ]
          },
          "metadata": {
            "tags": []
          },
          "execution_count": 32
        }
      ]
    },
    {
      "cell_type": "code",
      "metadata": {
        "id": "R25GD0wbgjLC",
        "colab_type": "code",
        "colab": {}
      },
      "source": [
        "#Podemos deducir que los pokemones tipo **Dragon y Volador**, tienen un porcentaje mayor de victorias"
      ],
      "execution_count": 0,
      "outputs": []
    },
    {
      "cell_type": "markdown",
      "metadata": {
        "id": "ewKMKWg6hzbl",
        "colab_type": "text"
      },
      "source": [
        "## Intentamos encontrar una relación entre los datos\n",
        "\n",
        "\n",
        "---\n",
        "\n",
        "> No consideramos las siguientes columnas: Numero (ya que es independiente) , nombre , tipo_2 (ya que no todos tienen esta caracteristica)\n",
        "\n",
        "\n",
        "\n"
      ]
    },
    {
      "cell_type": "code",
      "metadata": {
        "id": "SWa-cAaGiy2i",
        "colab_type": "code",
        "outputId": "e9f11706-487d-4315-d3a1-23de66c055ea",
        "colab": {
          "base_uri": "https://localhost:8080/",
          "height": 119
        }
      },
      "source": [
        "pokedexUltimate.columns"
      ],
      "execution_count": 34,
      "outputs": [
        {
          "output_type": "execute_result",
          "data": {
            "text/plain": [
              "Index(['NUMERO', 'NOMBRE', 'TIPO_1', 'TIPO_2', 'PUNTOS_DE_VIDA',\n",
              "       'PUNTOS_ATAQUE', 'PUNTOS_DEFENSA', 'PUNTOS_ATAQUE_ESPECIAL',\n",
              "       'PUNTO_DEFENSA_ESPECIAL', 'PUNTOS_VELOCIDAD', 'NOMBRE_GENERATIONS',\n",
              "       'LEGENDARIO', 'Cantidad_Combates', 'Combates_Ganados',\n",
              "       'Porcentaje_Victorias'],\n",
              "      dtype='object')"
            ]
          },
          "metadata": {
            "tags": []
          },
          "execution_count": 34
        }
      ]
    },
    {
      "cell_type": "code",
      "metadata": {
        "id": "aY_DvQjphrVH",
        "colab_type": "code",
        "outputId": "d438fe2f-887f-4e9f-9d2e-d5ed17a1ea3f",
        "colab": {
          "base_uri": "https://localhost:8080/",
          "height": 415
        }
      },
      "source": [
        "corr = pokedexUltimate.loc[:,['TIPO_1','PUNTOS_DE_VIDA','PUNTOS_ATAQUE',\n",
        "'PUNTOS_DEFENSA','PUNTOS_ATAQUE_ESPECIAL','PUNTO_DEFENSA_ESPECIAL',\n",
        "'PUNTOS_VELOCIDAD','LEGENDARIO','Porcentaje_Victorias']].corr()\n",
        "sn.heatmap(corr,\n",
        " xticklabels=corr.columns,\n",
        " yticklabels=corr.columns, annot=True)\n"
      ],
      "execution_count": 35,
      "outputs": [
        {
          "output_type": "execute_result",
          "data": {
            "text/plain": [
              "<matplotlib.axes._subplots.AxesSubplot at 0x7f348d2dd240>"
            ]
          },
          "metadata": {
            "tags": []
          },
          "execution_count": 35
        },
        {
          "output_type": "display_data",
          "data": {
            "image/png": "[encoded data removed]",
            "text/plain": [
              "<Figure size 432x288 with 2 Axes>"
            ]
          },
          "metadata": {
            "tags": [],
            "needs_background": "light"
          }
        }
      ]
    },
    {
      "cell_type": "markdown",
      "metadata": {
        "id": "boBj5MYGj_CE",
        "colab_type": "text"
      },
      "source": [
        "> Encontramos una relación fuerte entre el Porcentaje de victorias y los puntos de velocidad\n",
        "\n"
      ]
    },
    {
      "cell_type": "code",
      "metadata": {
        "id": "Q6pMjbThimas",
        "colab_type": "code",
        "colab": {}
      },
      "source": [
        "#Guardado del Dataframe Pokedex\n",
        "dataset = pokedexUltimate\n",
        "dataset.to_csv(\"drive/My Drive/Colab Notebooks/Datasets/dataset.csv\",index=False)"
      ],
      "execution_count": 0,
      "outputs": []
    },
    {
      "cell_type": "code",
      "metadata": {
        "id": "LqYc--bImOlV",
        "colab_type": "code",
        "outputId": "362433ef-fa84-4637-db52-8e25c7db829e",
        "colab": {
          "base_uri": "https://localhost:8080/",
          "height": 241
        }
      },
      "source": [
        "dataset = pd.read_csv(\"drive/My Drive/Colab Notebooks/Datasets/dataset.csv\")\n",
        "dataset.head()"
      ],
      "execution_count": 37,
      "outputs": [
        {
          "output_type": "execute_result",
          "data": {
            "text/html": [
              "<div>\n",
              "<style scoped>\n",
              "    .dataframe tbody tr th:only-of-type {\n",
              "        vertical-align: middle;\n",
              "    }\n",
              "\n",
              "    .dataframe tbody tr th {\n",
              "        vertical-align: top;\n",
              "    }\n",
              "\n",
              "    .dataframe thead th {\n",
              "        text-align: right;\n",
              "    }\n",
              "</style>\n",
              "<table border=\"1\" class=\"dataframe\">\n",
              "  <thead>\n",
              "    <tr style=\"text-align: right;\">\n",
              "      <th></th>\n",
              "      <th>NUMERO</th>\n",
              "      <th>NOMBRE</th>\n",
              "      <th>TIPO_1</th>\n",
              "      <th>TIPO_2</th>\n",
              "      <th>PUNTOS_DE_VIDA</th>\n",
              "      <th>PUNTOS_ATAQUE</th>\n",
              "      <th>PUNTOS_DEFENSA</th>\n",
              "      <th>PUNTOS_ATAQUE_ESPECIAL</th>\n",
              "      <th>PUNTO_DEFENSA_ESPECIAL</th>\n",
              "      <th>PUNTOS_VELOCIDAD</th>\n",
              "      <th>NOMBRE_GENERATIONS</th>\n",
              "      <th>LEGENDARIO</th>\n",
              "      <th>Cantidad_Combates</th>\n",
              "      <th>Combates_Ganados</th>\n",
              "      <th>Porcentaje_Victorias</th>\n",
              "    </tr>\n",
              "  </thead>\n",
              "  <tbody>\n",
              "    <tr>\n",
              "      <th>0</th>\n",
              "      <td>1</td>\n",
              "      <td>Bulbasaur</td>\n",
              "      <td>Planta</td>\n",
              "      <td>Veneno</td>\n",
              "      <td>45</td>\n",
              "      <td>49</td>\n",
              "      <td>49</td>\n",
              "      <td>65</td>\n",
              "      <td>65</td>\n",
              "      <td>45</td>\n",
              "      <td>1</td>\n",
              "      <td>0</td>\n",
              "      <td>133</td>\n",
              "      <td>37.0</td>\n",
              "      <td>27.819549</td>\n",
              "    </tr>\n",
              "    <tr>\n",
              "      <th>1</th>\n",
              "      <td>2</td>\n",
              "      <td>Ivysaur</td>\n",
              "      <td>Planta</td>\n",
              "      <td>Veneno</td>\n",
              "      <td>60</td>\n",
              "      <td>62</td>\n",
              "      <td>63</td>\n",
              "      <td>80</td>\n",
              "      <td>80</td>\n",
              "      <td>60</td>\n",
              "      <td>1</td>\n",
              "      <td>0</td>\n",
              "      <td>121</td>\n",
              "      <td>46.0</td>\n",
              "      <td>38.016529</td>\n",
              "    </tr>\n",
              "    <tr>\n",
              "      <th>2</th>\n",
              "      <td>3</td>\n",
              "      <td>Venusaur</td>\n",
              "      <td>Planta</td>\n",
              "      <td>Veneno</td>\n",
              "      <td>80</td>\n",
              "      <td>82</td>\n",
              "      <td>83</td>\n",
              "      <td>100</td>\n",
              "      <td>100</td>\n",
              "      <td>80</td>\n",
              "      <td>1</td>\n",
              "      <td>0</td>\n",
              "      <td>132</td>\n",
              "      <td>89.0</td>\n",
              "      <td>67.424242</td>\n",
              "    </tr>\n",
              "    <tr>\n",
              "      <th>3</th>\n",
              "      <td>4</td>\n",
              "      <td>Mega Venusaur</td>\n",
              "      <td>Planta</td>\n",
              "      <td>Veneno</td>\n",
              "      <td>80</td>\n",
              "      <td>100</td>\n",
              "      <td>123</td>\n",
              "      <td>122</td>\n",
              "      <td>120</td>\n",
              "      <td>80</td>\n",
              "      <td>1</td>\n",
              "      <td>0</td>\n",
              "      <td>125</td>\n",
              "      <td>70.0</td>\n",
              "      <td>56.000000</td>\n",
              "    </tr>\n",
              "    <tr>\n",
              "      <th>4</th>\n",
              "      <td>5</td>\n",
              "      <td>Charmander</td>\n",
              "      <td>Fuego</td>\n",
              "      <td>0</td>\n",
              "      <td>39</td>\n",
              "      <td>52</td>\n",
              "      <td>43</td>\n",
              "      <td>60</td>\n",
              "      <td>50</td>\n",
              "      <td>65</td>\n",
              "      <td>1</td>\n",
              "      <td>0</td>\n",
              "      <td>112</td>\n",
              "      <td>55.0</td>\n",
              "      <td>49.107143</td>\n",
              "    </tr>\n",
              "  </tbody>\n",
              "</table>\n",
              "</div>"
            ],
            "text/plain": [
              "   NUMERO         NOMBRE  ... Combates_Ganados Porcentaje_Victorias\n",
              "0       1      Bulbasaur  ...             37.0            27.819549\n",
              "1       2        Ivysaur  ...             46.0            38.016529\n",
              "2       3       Venusaur  ...             89.0            67.424242\n",
              "3       4  Mega Venusaur  ...             70.0            56.000000\n",
              "4       5     Charmander  ...             55.0            49.107143\n",
              "\n",
              "[5 rows x 15 columns]"
            ]
          },
          "metadata": {
            "tags": []
          },
          "execution_count": 37
        }
      ]
    },
    {
      "cell_type": "code",
      "metadata": {
        "id": "bc8W2n2iByM6",
        "colab_type": "code",
        "outputId": "342ed121-f4b4-4a9f-c809-19818bd63b27",
        "colab": {
          "base_uri": "https://localhost:8080/",
          "height": 34
        }
      },
      "source": [
        "dataset.shape"
      ],
      "execution_count": 38,
      "outputs": [
        {
          "output_type": "execute_result",
          "data": {
            "text/plain": [
              "(784, 15)"
            ]
          },
          "metadata": {
            "tags": []
          },
          "execution_count": 38
        }
      ]
    },
    {
      "cell_type": "markdown",
      "metadata": {
        "id": "ScxgnnHHWPsC",
        "colab_type": "text"
      },
      "source": [
        "##Extraemos las carácteristicas que seran fuente de aprendizaje (datos X) y datos de validación ( datos Y)"
      ]
    },
    {
      "cell_type": "code",
      "metadata": {
        "id": "tZBgoEX-B2vm",
        "colab_type": "code",
        "outputId": "2583143d-89f8-4eb7-e739-7d4548a38f5b",
        "colab": {
          "base_uri": "https://localhost:8080/",
          "height": 136
        }
      },
      "source": [
        "x = dataset.iloc[:,4:10].values\n",
        "x"
      ],
      "execution_count": 39,
      "outputs": [
        {
          "output_type": "execute_result",
          "data": {
            "text/plain": [
              "array([[ 45,  49,  49,  65,  65,  45],\n",
              "       [ 60,  62,  63,  80,  80,  60],\n",
              "       [ 80,  82,  83, 100, 100,  80],\n",
              "       ...,\n",
              "       [ 80, 110,  60, 150, 130,  70],\n",
              "       [ 80, 160,  60, 170, 130,  80],\n",
              "       [ 80, 110, 120, 130,  90,  70]])"
            ]
          },
          "metadata": {
            "tags": []
          },
          "execution_count": 39
        }
      ]
    },
    {
      "cell_type": "code",
      "metadata": {
        "id": "JknO8JIZWfg9",
        "colab_type": "code",
        "outputId": "d7e26c40-580b-4df6-e2a7-5edcc59c4e6c",
        "colab": {
          "base_uri": "https://localhost:8080/",
          "height": 1000
        }
      },
      "source": [
        "y = dataset.iloc[:,14].values\n",
        "y"
      ],
      "execution_count": 40,
      "outputs": [
        {
          "output_type": "execute_result",
          "data": {
            "text/plain": [
              "array([27.81954887, 38.01652893, 67.42424242, 56.        , 49.10714286,\n",
              "       54.23728814, 86.46616541, 85.61151079, 84.44444444, 16.23931624,\n",
              "       41.84397163, 57.63888889, 14.7826087 ,  9.77443609, 62.5       ,\n",
              "       23.42342342, 13.07692308, 62.5       , 96.63865546, 37.3015873 ,\n",
              "       52.89256198, 86.15384615, 94.44444444, 48.14814815, 72.14285714,\n",
              "       44.92753623, 83.7398374 , 36.64122137, 57.6       , 68.38235294,\n",
              "       86.7768595 , 53.33333333, 16.80672269, 38.51351351, 54.09836066,\n",
              "       25.        , 39.84375   , 56.42857143, 15.7480315 , 39.83739837,\n",
              "       41.08527132, 81.1023622 , 11.53846154, 37.93103448, 75.78125   ,\n",
              "        6.29370629, 21.70542636, 35.48387097,  9.42028986, 19.48051948,\n",
              "       22.37762238, 65.71428571, 53.96825397, 84.375     , 65.        ,\n",
              "       85.83333333, 33.09859155, 68.69565217, 46.61016949, 78.7037037 ,\n",
              "       45.        , 79.8245614 , 72.        , 52.30769231, 32.40740741,\n",
              "       66.92307692, 77.14285714, 78.18181818, 14.        , 25.80645161,\n",
              "       43.96551724, 21.2962963 , 37.19008264, 50.31847134, 80.34188034,\n",
              "       11.85185185, 21.16788321, 37.03703704, 74.7826087 , 86.66666667,\n",
              "       19.67213115, 15.26717557, 13.79310345, 16.78321678, 44.82758621,\n",
              "       64.92537313, 84.61538462, 24.3697479 , 51.90839695, 17.6056338 ,\n",
              "       37.59398496, 18.91891892, 52.98507463, 47.65625   , 69.36936937,\n",
              "       77.19298246, 86.25954198, 48.14814815, 21.89781022, 51.2605042 ,\n",
              "       27.73722628, 59.82142857, 58.40707965, 84.49612403, 23.52941176,\n",
              "       38.94736842, 20.27972028, 28.33333333, 64.0625    , 62.14285714,\n",
              "       13.97058824, 13.98601399, 43.41085271, 28.57142857, 44.44444444,\n",
              "       15.30612245, 37.98449612, 75.3968254 , 83.59375   , 41.35338346,\n",
              "       66.10169492, 51.28205128, 48.24561404, 56.33802817, 89.92248062,\n",
              "       55.88235294, 87.94326241, 73.33333333, 89.14728682, 74.41860465,\n",
              "       65.32258065, 86.7768595 , 87.17948718, 17.98561151, 61.65413534,\n",
              "       67.88321168, 43.88489209, 37.37373737, 52.27272727, 92.53731343,\n",
              "       53.03030303, 17.96875   , 17.96875   , 35.50724638, 42.95774648,\n",
              "       71.81818182, 96.45390071, 98.4496124 , 35.71428571, 68.34532374,\n",
              "       76.85950413, 73.52941176, 36.75213675, 50.        , 63.04347826,\n",
              "       92.68292683, 92.59259259, 95.2       , 83.18584071, 27.5       ,\n",
              "       43.36283186, 68.21705426, 50.41322314, 60.92715232, 86.20689655,\n",
              "       21.96969697, 44.11764706, 58.69565217,  7.2       , 67.39130435,\n",
              "       32.43243243, 50.        , 22.76422764, 62.77372263,  9.48905109,\n",
              "       92.62295082, 52.63157895, 51.5625    , 34.28571429,  6.25      ,\n",
              "        4.34782609,  2.45901639, 23.62204724, 55.17241379, 72.72727273,\n",
              "       16.42857143, 22.22222222, 34.45378151, 28.90625   , 21.58273381,\n",
              "       15.57377049, 34.375     , 24.3902439 , 54.62184874, 40.33613445,\n",
              "       55.46218487, 84.44444444, 70.73170732, 12.61261261, 16.1971831 ,\n",
              "       72.        ,  4.8       , 25.71428571, 82.3943662 , 52.75590551,\n",
              "       82.27848101, 24.24242424, 63.15789474, 25.98425197, 13.43283582,\n",
              "       57.8125    , 14.67889908, 30.08130081, 18.97810219, 69.40298507,\n",
              "       16.77852349, 34.48275862, 15.32846715, 29.41176471, 69.33333333,\n",
              "       60.8       , 55.        ,  0.        , 69.11764706, 62.30769231,\n",
              "       93.80530973, 23.85321101,  3.25203252,  7.25806452, 27.81954887,\n",
              "       30.50847458, 20.14388489, 46.62162162, 32.74336283, 56.92307692,\n",
              "       59.54198473, 52.23880597, 46.03174603, 79.85611511, 94.81481481,\n",
              "       64.70588235, 29.54545455, 35.29411765, 49.07407407, 66.66666667,\n",
              "       37.68115942, 13.38582677, 51.79856115, 36.22047244, 80.55555556,\n",
              "       61.83206107, 80.46875   , 31.25      , 93.81443299, 81.34328358,\n",
              "       64.46280992, 22.72727273, 29.49640288, 40.57971014, 56.4516129 ,\n",
              "       86.99186992, 71.96261682, 83.45864662, 44.82758621, 72.38095238,\n",
              "       92.62295082, 94.44444444, 28.46715328, 36.73469388, 64.22764228,\n",
              "       84.55284553, 16.2962963 , 28.37837838, 47.79411765, 59.23076923,\n",
              "       23.68421053, 63.90977444, 28.97196262, 81.4516129 ,  7.24637681,\n",
              "        2.17391304, 52.17391304,  5.26315789, 39.56834532,  7.93650794,\n",
              "       28.34645669, 56.09756098,  8.73015873, 42.47787611, 64.22764228,\n",
              "       68.8       , 90.90909091, 46.66666667, 47.58064516, 16.08391608,\n",
              "       26.47058824, 64.61538462, 80.83333333, 36.71875   , 43.75      ,\n",
              "       18.05555556, 51.53846154, 11.19402985, 64.17910448, 88.66666667,\n",
              "       21.92982456, 92.30769231, 33.06451613, 11.36363636, 25.87412587,\n",
              "       51.18110236, 11.57024793,  9.62962963,  9.28571429, 23.52941176,\n",
              "       50.        , 40.49586777, 43.06569343, 39.02439024, 37.58865248,\n",
              "       22.22222222, 25.35211268, 41.17647059, 32.43243243, 32.37410072,\n",
              "       73.21428571, 70.07874016, 56.61764706, 88.        , 91.79104478,\n",
              "       75.40983607, 60.44776119, 68.46846847, 65.        , 45.68965517,\n",
              "       19.09090909, 37.19008264, 51.1627907 , 81.06060606, 95.        ,\n",
              "       40.17857143, 42.75362319, 15.83333333, 23.21428571, 28.24427481,\n",
              "       27.2       , 30.76923077, 54.62962963, 38.0952381 , 29.49640288,\n",
              "       56.4516129 , 90.51724138, 17.46031746, 46.47887324, 29.26829268,\n",
              "       65.6       , 65.69343066, 66.94915254, 42.65734266, 53.07692308,\n",
              "       50.        , 47.2972973 , 33.33333333, 14.19354839, 28.09917355,\n",
              "       40.93959732, 59.83606557, 12.09677419, 20.3125    , 54.        ,\n",
              "       33.03571429, 26.82926829, 62.01550388, 52.89256198, 27.41935484,\n",
              "       26.47058824, 53.23741007, 65.87301587, 11.36363636, 17.3553719 ,\n",
              "       41.79104478, 42.62295082, 68.99224806, 93.52517986,  4.61538462,\n",
              "       30.70866142, 60.15037594, 84.7826087 ,  6.10687023, 23.88059701,\n",
              "       50.33557047, 19.82758621, 36.36363636, 28.90625   , 42.53731343,\n",
              "       60.30534351, 30.4       , 34.95934959, 82.48175182, 93.98496241,\n",
              "       15.03759398, 30.88235294, 51.81818182, 86.92307692, 34.72222222,\n",
              "       23.57142857, 30.97345133, 87.21804511, 85.6       , 89.81481481,\n",
              "       71.875     , 73.48484848, 79.69924812, 75.20661157, 82.85714286,\n",
              "       94.7761194 , 87.58169935, 93.39622642, 90.29850746, 74.17218543,\n",
              "       91.72413793, 11.66666667, 29.54545455, 34.51327434, 41.96428571,\n",
              "       64.22764228, 91.27516779, 14.28571429, 25.19083969, 46.34146341,\n",
              "       43.5483871 , 63.02521008, 83.08823529, 14.28571429, 60.43165468,\n",
              "        8.87096774, 51.63934426, 25.89928058, 44.44444444, 58.33333333,\n",
              "       28.20512821, 69.11764706, 34.31372549, 39.02439024, 11.2       ,\n",
              "       19.83471074, 14.63414634, 16.66666667, 17.05426357, 26.08695652,\n",
              "       48.14814815, 42.30769231, 26.77165354, 73.04964539, 61.26126126,\n",
              "       90.32258065, 11.85185185, 62.28070175, 11.68831169, 17.74193548,\n",
              "       91.89189189, 62.83185841, 62.5       , 68.88888889, 90.08264463,\n",
              "       96.12403101, 84.8       , 60.68376068, 93.27731092, 13.82113821,\n",
              "       56.        , 71.42857143, 12.72727273, 26.24113475, 23.2       ,\n",
              "       30.83333333,  7.69230769, 74.4966443 , 24.57627119, 25.92592593,\n",
              "       61.65413534, 76.37795276, 70.83333333, 68.6440678 , 39.2       ,\n",
              "       75.        , 88.88888889, 23.80952381, 29.16666667, 44.68085106,\n",
              "       73.33333333, 25.43859649, 66.40625   , 24.56140351, 51.90839695,\n",
              "       65.54621849, 24.07407407, 18.18181818, 49.58677686, 42.46575342,\n",
              "       97.4789916 , 53.38983051, 27.13178295, 45.19230769, 38.4       ,\n",
              "       76.42276423, 71.17117117, 57.93650794, 79.8245614 , 82.78145695,\n",
              "       47.76119403, 82.57575758, 58.62068966, 70.06802721, 62.77372263,\n",
              "       86.15384615, 20.        , 29.41176471, 65.94202899, 59.16666667,\n",
              "       69.91150442, 77.5862069 , 70.3125    , 72.72727273, 73.13432836,\n",
              "       74.79674797, 59.39849624, 90.37037037, 78.80794702, 77.18120805,\n",
              "       64.88549618, 85.91549296, 66.66666667, 66.41791045, 66.94915254,\n",
              "       56.06060606, 88.05970149, 94.01709402, 86.02941176, 94.06779661,\n",
              "       93.44262295, 87.78625954, 45.94594595, 90.15151515, 25.95419847,\n",
              "       38.19444444, 52.17391304, 25.        , 39.3442623 , 56.52173913,\n",
              "       18.51851852, 51.87969925, 29.        , 38.4057971 , 62.06896552,\n",
              "       51.75438596, 91.11111111, 40.76923077, 80.91603053, 46.15384615,\n",
              "       88.97637795, 35.8974359 , 84.96240602,  3.90625   ,  6.81818182,\n",
              "       29.22077922, 48.38709677, 78.46153846, 59.25925926, 93.45794393,\n",
              "       18.75      , 33.58778626, 40.54054054, 58.53658537, 88.79310345,\n",
              "       64.22018349, 77.44360902, 34.58646617, 36.36363636, 18.66666667,\n",
              "       21.18644068, 30.        , 45.58823529, 43.5483871 , 57.14285714,\n",
              "       22.44897959, 62.5       , 25.73529412, 21.13821138, 79.33884298,\n",
              "       28.03030303, 26.26262626, 92.98245614, 36.22047244, 88.88888889,\n",
              "       15.75342466, 71.65354331, 80.90909091, 53.73134328, 57.52212389,\n",
              "       84.09090909, 36.29032258, 81.95488722, 35.24590164, 32.57575758,\n",
              "       33.61344538, 29.35779817, 50.41322314, 71.71052632, 21.42857143,\n",
              "       24.59016393, 23.25581395, 32.14285714, 55.93220339, 91.40625   ,\n",
              "       41.88034188, 60.        , 50.38167939, 88.49557522, 59.45945946,\n",
              "       87.78625954, 20.8       , 30.08130081, 48.87218045,  3.10077519,\n",
              "        7.25806452, 15.        , 36.29032258, 86.55462185, 16.36363636,\n",
              "       43.65079365, 66.4       , 58.82352941, 74.16666667, 79.8245614 ,\n",
              "       43.80165289, 58.06451613, 11.66666667, 20.66115702, 31.81818182,\n",
              "       51.51515152, 46.37681159, 83.94160584, 19.81981982, 44.85294118,\n",
              "       10.61946903, 22.31404959, 75.57251908, 35.71428571, 20.3125    ,\n",
              "       30.63063063, 13.20754717, 15.67164179, 13.67521368, 42.22222222,\n",
              "       60.71428571, 37.77777778, 45.73643411, 82.67716535, 26.95652174,\n",
              "       37.20930233, 80.40540541,  8.87096774, 92.1875    , 20.13888889,\n",
              "       50.76923077, 92.36641221, 27.85714286, 31.25      , 57.14285714,\n",
              "       52.29357798, 60.9929078 , 40.33613445, 33.60655738, 69.23076923,\n",
              "       45.90163934, 62.58503401, 47.10743802, 88.05970149, 27.41935484,\n",
              "       41.30434783, 82.17054264, 42.33576642, 75.18248175, 91.40625   ,\n",
              "       85.36585366, 89.6       , 84.68468468, 96.8       , 86.4       ,\n",
              "       86.08695652, 72.8       , 64.93506494, 87.25490196, 85.49618321,\n",
              "       77.34375   , 77.        , 78.125     , 86.20689655, 89.25619835,\n",
              "       69.01408451, 95.93495935, 82.03125   , 17.56756757, 40.33613445,\n",
              "       45.96774194, 33.88429752, 58.26086957, 82.53968254, 56.8       ,\n",
              "       76.97841727, 96.06299213, 38.9380531 , 53.125     , 40.44117647,\n",
              "       72.44094488, 90.90909091,  8.20895522,  7.51879699, 66.66666667,\n",
              "       44.35483871, 80.99173554, 22.51655629, 39.66942149, 62.80991736,\n",
              "       36.22047244, 48.0620155 , 22.03389831, 37.39837398, 86.25954198,\n",
              "       51.78571429, 79.13043478, 73.22834646, 31.25      , 33.33333333,\n",
              "       50.        , 52.0661157 ,  6.01503759, 19.37984496, 33.88429752,\n",
              "       61.83206107, 30.90909091, 68.35443038, 28.68217054, 51.49253731,\n",
              "       11.29032258, 19.87179487, 13.70967742, 43.53741497, 52.67857143,\n",
              "       78.33333333, 31.77570093, 53.94736842, 23.14049587, 46.21212121,\n",
              "       40.16393443, 88.42975207, 87.90322581, 25.71428571, 21.36752137,\n",
              "       45.38461538, 60.37735849, 57.37704918, 23.91304348, 39.33333333,\n",
              "       42.60869565, 42.14876033, 25.19083969, 71.875     , 80.99173554,\n",
              "       57.25806452, 39.39393939,  9.30232558, 29.75206612, 31.49606299,\n",
              "       93.04347826, 82.94573643, 81.02189781, 74.76635514, 37.14285714,\n",
              "       88.54961832, 50.42016807, 61.80555556, 61.98347107])"
            ]
          },
          "metadata": {
            "tags": []
          },
          "execution_count": 40
        }
      ]
    },
    {
      "cell_type": "markdown",
      "metadata": {
        "id": "04RO8yCAYPVK",
        "colab_type": "text"
      },
      "source": [
        "Partimos la data en 80% para entrenamiento y 20% para hacer las pruebas"
      ]
    },
    {
      "cell_type": "code",
      "metadata": {
        "id": "f00oaVUpWgR_",
        "colab_type": "code",
        "colab": {}
      },
      "source": [
        "from sklearn.model_selection import train_test_split\n",
        "X_APRENDIZAJE, X_VALIDACION, Y_APRENDIZAJE, Y_VALIDACION = train_test_split(x, y, test_size = 0.2, random_state = 0)\n"
      ],
      "execution_count": 0,
      "outputs": []
    },
    {
      "cell_type": "markdown",
      "metadata": {
        "id": "-rHDBX6gYdxS",
        "colab_type": "text"
      },
      "source": [
        "### Usaremos **Random Forest**"
      ]
    },
    {
      "cell_type": "code",
      "metadata": {
        "id": "bORGeJ67YF9E",
        "colab_type": "code",
        "outputId": "10d1c534-cd1d-4f91-c943-99ed91945833",
        "colab": {
          "base_uri": "https://localhost:8080/",
          "height": 68
        }
      },
      "source": [
        "from sklearn.ensemble import RandomForestRegressor\n",
        "from sklearn.metrics import r2_score\n",
        "algoritmo = RandomForestRegressor()\n",
        "\n",
        "algoritmo.fit(X_APRENDIZAJE, Y_APRENDIZAJE)\n",
        "\n",
        "predicciones = algoritmo.predict(X_VALIDACION)\n",
        "\n",
        "precision = r2_score(Y_VALIDACION, predicciones)\n",
        "\n",
        "\n",
        "print(\">> ----------- BOSQUES ALEATORIOS -----------\")\n",
        "print(\">> Precision = \"+str(precision))\n",
        "print(\"------------------------------------------\")\n"
      ],
      "execution_count": 42,
      "outputs": [
        {
          "output_type": "stream",
          "text": [
            ">> ----------- BOSQUES ALEATORIOS -----------\n",
            ">> Precision = 0.9286684161854251\n",
            "------------------------------------------\n"
          ],
          "name": "stdout"
        }
      ]
    },
    {
      "cell_type": "markdown",
      "metadata": {
        "id": "iNcohM56mbbA",
        "colab_type": "text"
      },
      "source": [
        "#Guardado del modelo de aprendizaje"
      ]
    },
    {
      "cell_type": "code",
      "metadata": {
        "id": "h2CLnuzobmAV",
        "colab_type": "code",
        "outputId": "f07d0972-1ab0-410c-8f1d-3e06f72af401",
        "colab": {
          "base_uri": "https://localhost:8080/",
          "height": 88
        }
      },
      "source": [
        "from sklearn.externals import joblib\n",
        "archivo = 'drive/My Drive/Colab Notebooks/Modelos/modelo_pokemon.mod'\n",
        "joblib.dump(algoritmo, archivo)"
      ],
      "execution_count": 43,
      "outputs": [
        {
          "output_type": "stream",
          "text": [
            "/usr/local/lib/python3.6/dist-packages/sklearn/externals/joblib/__init__.py:15: FutureWarning: sklearn.externals.joblib is deprecated in 0.21 and will be removed in 0.23. Please import this functionality directly from joblib, which can be installed with: pip install joblib. If this warning is raised when loading pickled models, you may need to re-serialize those models with scikit-learn 0.21+.\n",
            "  warnings.warn(msg, category=FutureWarning)\n"
          ],
          "name": "stderr"
        },
        {
          "output_type": "execute_result",
          "data": {
            "text/plain": [
              "['drive/My Drive/Colab Notebooks/Modelos/modelo_pokemon.mod']"
            ]
          },
          "metadata": {
            "tags": []
          },
          "execution_count": 43
        }
      ]
    },
    {
      "cell_type": "markdown",
      "metadata": {
        "id": "p3CdwknHlSMh",
        "colab_type": "text"
      },
      "source": [
        ""
      ]
    }
  ]
}